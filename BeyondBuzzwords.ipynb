{
 "cells": [
  {
   "cell_type": "markdown",
   "metadata": {},
   "source": [
    "## Data Science, Artificial Intelligence and Machine Learning\n",
    "\n",
    "Posted: 31st July, 2020, 18:10 UTC+5:30\n",
    "\n",
    "This post is meant to be a non-technical introduction to the field for people who either:\n",
    "\n",
    "1. Are laymen who want to know beyond the buzzwords.\n",
    "\n",
    "2. Want to start working in the field (or levarage it for their own field!) and are looking for 'where to begin?' point."
   ]
  },
  {
   "cell_type": "markdown",
   "metadata": {},
   "source": [
    "__Disclaimer__: Now, I'll admit that I'm not someone with years and years of experience in the field, on the contrary, I started learning about aspects of the field one year ago, so I'm leaving breadcrumbs for the likes of an year younger me."
   ]
  },
  {
   "cell_type": "markdown",
   "metadata": {},
   "source": [
    "Moving on...\n",
    "\n",
    "### Table of Contents\n",
    "1. [Data Science](#What-is-Data-Science?)\n",
    "2. [Data Analysis](#What-is-Data-Analysis?)\n",
    "3. [Artificial Intelligence (AI)](#Artificial-Intelligence-(AI))\n",
    "4. [Machine Learning (ML)](#Machine-Learning-(ML))\n",
    "5. [Neural Network](#Neural-Network)\n",
    "6. [Deep Learning](#Deep-Learning)\n",
    "7. [Big Data](#Big-Data)\n",
    "8. [Wrapping up](#Wrapping-up)\n",
    "\n",
    "### External Content\n",
    "1. [Neural Network - Youtube Video by 3Blue1Brown](https://www.youtube.com/watch?v=aircAruvnKk&list=PLZHQObOWTQDNU6R1_67000Dx_ZCJB-3pi&index=1)\n",
    "2. [AI for Everyone - Coursera Course by Andrew Ng](https://www.coursera.org/learn/ai-for-everyone)"
   ]
  },
  {
   "cell_type": "markdown",
   "metadata": {},
   "source": [
    "#### What is Data Science?\n",
    "\n",
    ">Data science is an inter-disciplinary field that uses scientific methods, processes, algorithms and systems to extract knowledge and insights from many structural and unstructured data.\n",
    "\n",
    "[From Wikipedia](https://en.wikipedia.org/wiki/Data_science)\n",
    "\n",
    "Simply speaking, it's knowledge and insight discovery from data.\n",
    "There are many real-world solutions which utilize data science such as digital assistants, self-driving cars, AIs writing literature etc."
   ]
  },
  {
   "cell_type": "markdown",
   "metadata": {},
   "source": [
    "#### What is Data Analysis?\n",
    "\n",
    ">Data analysis is a process of inspecting, cleansing, transforming and modeling data with the goal of discovering useful information, informing conclusions and supporting decision-making.\n",
    "\n",
    "[From Wikipedia](https://en.wikipedia.org/wiki/Data_analysis)\n",
    "\n",
    "_So, how is it different from Data Science?_\n",
    "\n",
    "Data Analysis is a _part of Data Science_ which is limited to gaining predictive insights. It's one aspect of a vast field, and a perfect starting point for a beginner.\n",
    "\n",
    "An __example__ for data analysis can be, given a person's credit card history, are they likely or unlikely to buy a luxury item? For that, we would need credit card history of a few thousand people of similar demographics."
   ]
  },
  {
   "cell_type": "markdown",
   "metadata": {},
   "source": [
    "#### _Now, there are few popular words in or around Data Science that I would like to cover here as well._"
   ]
  },
  {
   "cell_type": "markdown",
   "metadata": {},
   "source": [
    "#### Artificial Intelligence (AI)\n",
    "\n",
    "We can think of AI as a software system which is capable of:\n",
    "\n",
    "1. __Learning__ via maintaining and updating it's knowledge base.(How music services learn over time about our likes and dislikes.)\n",
    "\n",
    "_[Knowledge Base: store of facts, historical domain knowledge and inference.]_\n",
    "\n",
    "2. __Decision making__ via insight from Knowledge Base (Predictive or Descriptive Analysis)\n",
    "\n",
    "3. __Problem solving__ via interaction with it's environment based on generated insight. (Self-driving cars, Spam email filtering, Digital Assistants)\n",
    "\n",
    "_[For problem solving via interation, the AI requires a set of 'input sensors' and 'output actuators' to be able to learn from and cause changes to it's environment, especially when it's used out in the physical world.]_\n",
    "\n",
    "__To summarize, AI is software which can -> learn -> make decisions from that learning -> solve problems from that decision making.__\n",
    "\n",
    "What I've described here is __ASI (Artificial Specific Intelligence)__ in actuality and what we see in the popular media is __AGI (Artificial General Intelligence)__ which is being researched but has not been achieved till date."
   ]
  },
  {
   "cell_type": "markdown",
   "metadata": {},
   "source": [
    "#### Machine Learning (ML)\n",
    "\n",
    "It's the domain of computing where a predictive model can be \"taught\" input-data to output-conclusion 'mapping' so that the model can predict the conclusion for new, previously unseen input.\n",
    "\n",
    "_Specifically_, this is known as Supervised learning, there are other types of learning as well such as Semi-Supervised, Unsupervised, Reinforcement, Transfer and Deductive learning etc."
   ]
  },
  {
   "cell_type": "markdown",
   "metadata": {},
   "source": [
    "#### Neural Network\n",
    "\n",
    "Neural Networks are a class of very effective predictive modelling techniques. It consists of an 'input layer' consisting of many \"neurons\", one or more 'hidden layers' and an 'output layer' with one \"neuron\".\n",
    "\n",
    "In actuality, it's a linear algebraic equation. It's represented as a network  of neurons for layman representation and understanding.\n",
    "\n",
    "[Here's](https://www.youtube.com/watch?v=aircAruvnKk&list=PLZHQObOWTQDNU6R1_67000Dx_ZCJB-3pi&index=1) an excellent video on Youtube by 3Blue1Brown which helped me visualize Neural Networks, and how they work.\n",
    "\n",
    "_Side Note_: And as our computer hardware has become more and more powerful, we have been able to use larger and larger neural networks, which in turn, has led to the recent resurgence of AI. (AI is not a new field!)"
   ]
  },
  {
   "cell_type": "markdown",
   "metadata": {},
   "source": [
    "#### Deep Learning\n",
    "\n",
    "Deep learning is simply machine learning where we use very large and complex neural networks.\n",
    "\n",
    "Other part of machine learning is _Shallow Network_ referring to models based on small neural networks or using other methds such as decision trees."
   ]
  },
  {
   "cell_type": "markdown",
   "metadata": {},
   "source": [
    "#### Big Data\n",
    "\n",
    "Big data refers to massive data processing system which have far surpassed regular data storage system in terms of:\n",
    "1. How much data the system receives in a unit time (few megabytes/second vs. 10s of gigabytes/second).\n",
    "2. How much data the system stores (10-1000 gigabytes vs 100s of terabytes).\n",
    "3. How much data the system can process through in a unit time (1-10 gigabytes/second vs 1000s of gigabytes/second).\n",
    "\n",
    "_How it's related to Data Science, Artificial Intelligence or Machine Learning?_\n",
    "\n",
    "As we have seen above, Data Science, AI and ML need data to work, lots of it. And with the advent of faster internet, more powerful hardware and increasing appeal of IoT(Internet of Things), only recently have we got a treasure trove of data needed to train AIs we see today."
   ]
  },
  {
   "cell_type": "markdown",
   "metadata": {},
   "source": [
    "#### _Wrapping up_\n",
    "For people who want to learn more, there's a great Coursera course [AI for Everyone](https://www.coursera.org/learn/ai-for-everyone) by Andrew Ng. It consists of 4 hours of video lectures divided into four section with quizzes. I found it very helpful to get a strong non-technical understanding of the field."
   ]
  }
 ],
 "metadata": {
  "kernelspec": {
   "display_name": "CreditDefaulterClassification",
   "language": "python",
   "name": "creditdefaulterclassification"
  },
  "language_info": {
   "codemirror_mode": {
    "name": "ipython",
    "version": 3
   },
   "file_extension": ".py",
   "mimetype": "text/x-python",
   "name": "python",
   "nbconvert_exporter": "python",
   "pygments_lexer": "ipython3",
   "version": "3.7.7"
  }
 },
 "nbformat": 4,
 "nbformat_minor": 4
}
