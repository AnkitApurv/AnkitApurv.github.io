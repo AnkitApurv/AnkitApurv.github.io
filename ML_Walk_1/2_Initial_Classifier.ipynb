{
 "cells": [
  {
   "cell_type": "markdown",
   "source": [
    "---\r\n",
    "layout: default\r\n",
    "categories: \"DataScience\"\r\n",
    "permalink: /:categories/:title\r\n",
    "title: \"ML Walk-through 1 - Part 2 of 5\"\r\n",
    "---"
   ],
   "metadata": {}
  },
  {
   "cell_type": "markdown",
   "source": [
    "# Model: Benchmark Classifier\r\n",
    "\r\n",
    "In this 5 part walk-through, I'll demonstrate a simple Machine Learning project to build a classifier model.\r\n",
    "\r\n",
    "In this step, we will quickly train and test a __simple, benchmark model__ on the data we have collected, which gives us the following:\r\n",
    "\r\n",
    "1. A benchmark to compare later models against.\r\n",
    "2. To figure out most suitable comparison metric (__hint__: look at benchmark model, project scope).\r\n",
    "3. An insight into the dataset and the problem before we begin EDA.\r\n",
    "<!--end-excerpt-->\r\n",
    "\r\n",
    "ML Walk-through Series:\r\n",
    "\r\n",
    "1. Project Scoping and Data Collection\r\n",
    "2. Initial Model\r\n",
    "3. Exploratory Data Analysis\r\n",
    "4. Data Processing\r\n",
    "5. Final Model\r\n"
   ],
   "metadata": {
    "slideshow": {
     "slide_type": "slide"
    }
   }
  },
  {
   "cell_type": "markdown",
   "source": [
    "## 1.a. Import: Libraries"
   ],
   "metadata": {
    "slideshow": {
     "slide_type": "slide"
    }
   }
  },
  {
   "cell_type": "code",
   "execution_count": 1,
   "source": [
    "#data organizing\r\n",
    "import pandas #storage\r\n",
    "import numpy as np #data-type conversion\r\n",
    "from os import getcwd\r\n",
    "\r\n",
    "#preprocessing - data splitting\r\n",
    "from sklearn.model_selection import train_test_split\r\n",
    "\r\n",
    "#classifier\r\n",
    "from sklearn.tree import DecisionTreeClassifier\r\n",
    "\r\n",
    "#classification result - statistical\r\n",
    "from sklearn.metrics import confusion_matrix\r\n",
    "from sklearn.metrics import classification_report\r\n",
    "from sklearn.metrics import roc_auc_score\r\n",
    "\r\n",
    "#classifier result - graphical\r\n",
    "from sklearn.model_selection import learning_curve\r\n",
    "\r\n",
    "#hyper-parameter optimization\r\n",
    "from sklearn.model_selection import GridSearchCV\r\n",
    "\r\n",
    "from matplotlib import pyplot"
   ],
   "outputs": [],
   "metadata": {
    "slideshow": {
     "slide_type": "fragment"
    }
   }
  },
  {
   "cell_type": "markdown",
   "source": [
    "## 1.b. Import: Dataset"
   ],
   "metadata": {
    "slideshow": {
     "slide_type": "slide"
    }
   }
  },
  {
   "cell_type": "code",
   "execution_count": 2,
   "source": [
    "#dtype changed from int64 to int32 to save space and speed up computation, no data was lost\r\n",
    "def cvDefPay(prediction):\r\n",
    "    mapper = {0: False, 1: True}\r\n",
    "    return mapper.get(prediction)\r\n",
    "\r\n",
    "url = getcwd() + '\\\\default of credit card clients.xls'\r\n",
    "ccd = pandas.read_excel(io = url, \\\r\n",
    "                        sheet_name='Data', header = 1, index_col = 0, \\\r\n",
    "                        dtype = {'LIMIT_BAL': np.int32, 'AGE': np.int32, 'BILL_AMT1': np.int32, 'BILL_AMT2': np.int32, 'BILL_AMT3': np.int32, 'BILL_AMT4': np.int32, 'BILL_AMT5': np.int32, 'BILL_AMT6': np.int32, 'PAY_AMT1': np.int32, 'PAY_AMT2': np.int32, 'PAY_AMT3': np.int32, 'PAY_AMT4': np.int32, 'PAY_AMT5': np.int32, 'PAY_AMT6': np.int32}, \\\r\n",
    "                       converters = {'default payment next month': cvDefPay})"
   ],
   "outputs": [],
   "metadata": {
    "slideshow": {
     "slide_type": "fragment"
    }
   }
  },
  {
   "cell_type": "code",
   "execution_count": 3,
   "source": [
    "ccd.rename(columns = {'PAY_0': 'PAY_1'}, inplace = True)\r\n",
    "ccd.rename(columns = {'default payment next month': 'default_payment_next_month'}, inplace = True)"
   ],
   "outputs": [],
   "metadata": {
    "slideshow": {
     "slide_type": "fragment"
    }
   }
  },
  {
   "cell_type": "code",
   "execution_count": 4,
   "source": [
    "ccdY = pandas.DataFrame(ccd['default_payment_next_month'])\r\n",
    "ccdX = ccd.drop(['default_payment_next_month'], axis = 'columns')"
   ],
   "outputs": [],
   "metadata": {
    "slideshow": {
     "slide_type": "fragment"
    }
   }
  },
  {
   "cell_type": "markdown",
   "source": [
    "## 3. Data Splitting\r\n",
    "\r\n",
    "Though GridSearchCV uses Stratified K-Fold cross-validation, test dataset is separated so that model's accuracy can be tested independently.\r\n"
   ],
   "metadata": {}
  },
  {
   "cell_type": "code",
   "execution_count": 5,
   "source": [
    "trainX, testX, trainY, testY = train_test_split(ccdX, ccdY, test_size = 0.25, stratify = ccdY, random_state = 44)"
   ],
   "outputs": [],
   "metadata": {
    "slideshow": {
     "slide_type": "fragment"
    }
   }
  },
  {
   "cell_type": "markdown",
   "source": [
    "## 4.a. GridSearchCV: DecisionTreeClassifier\r\n",
    "\r\n",
    "Why GridSearchCV?\r\n",
    "\r\n",
    "1. Since it's the initial stages of our machine learning project, we lack the insight to properly tune the parameters of even a simple classifier like DecisionTree, hence we can provide a wide range of parameters through this approach.\r\n",
    "2. Cross validation i.e. CV so that we can train and compare model with various parameter sets without exposing test dataset to it.\r\n",
    "\r\n",
    "Why DecisionTree?\r\n",
    "\r\n",
    "Because it's one of the simpler classification algorithms.\r\n",
    "\r\n",
    "What is Scoring Metric?\r\n",
    "\r\n",
    "the metric we will use to compare the models\r\n",
    "\r\n",
    "__Important__: At this point, we are unlikely to have good enough insight to select a very good scoring metric, so we'll just pick a few relevant ones with insights from project scope/problem's literature review."
   ],
   "metadata": {
    "slideshow": {
     "slide_type": "slide"
    }
   }
  },
  {
   "cell_type": "code",
   "execution_count": 6,
   "source": [
    "featureCount = len(ccdX.columns)\r\n",
    "\r\n",
    "parameterGrid = {'max_depth': [featureCount * 0.125, featureCount * 0.25, featureCount * 0.5, featureCount * 0.75, featureCount],\r\n",
    "                 'criterion': ['gini', 'entropy'],\r\n",
    "                 'splitter': ['best', 'random']}\r\n",
    "\r\n",
    "scoringMetrics = ['recall', 'accuracy', 'roc_auc']\r\n",
    "\r\n",
    "gridSearch = GridSearchCV(\r\n",
    "    estimator = DecisionTreeClassifier(random_state = 39),\r\n",
    "    param_grid = parameterGrid,\r\n",
    "    scoring = scoringMetrics,\r\n",
    "    n_jobs = -1, #https://scikit-learn.org/stable/glossary.html#term-n-jobs\r\n",
    "    cv = 5, #5 fold stratified cross-validator\r\n",
    "    refit = 'recall',\r\n",
    "    return_train_score = True)"
   ],
   "outputs": [],
   "metadata": {
    "slideshow": {
     "slide_type": "subslide"
    }
   }
  },
  {
   "cell_type": "code",
   "execution_count": 7,
   "source": [
    "gridSearch.fit(trainX, trainY.values.ravel())"
   ],
   "outputs": [
    {
     "output_type": "execute_result",
     "data": {
      "text/plain": [
       "GridSearchCV(cv=5, estimator=DecisionTreeClassifier(random_state=39), n_jobs=-1,\n",
       "             param_grid={'criterion': ['gini', 'entropy'],\n",
       "                         'max_depth': [2.875, 5.75, 11.5, 17.25, 23],\n",
       "                         'splitter': ['best', 'random']},\n",
       "             refit='recall', return_train_score=True,\n",
       "             scoring=['recall', 'accuracy', 'roc_auc'])"
      ]
     },
     "metadata": {},
     "execution_count": 7
    }
   ],
   "metadata": {
    "slideshow": {
     "slide_type": "subslide"
    }
   }
  },
  {
   "cell_type": "code",
   "execution_count": 10,
   "source": [
    "classifier = gridSearch.best_estimator_"
   ],
   "outputs": [],
   "metadata": {
    "slideshow": {
     "slide_type": "fragment"
    }
   }
  },
  {
   "cell_type": "code",
   "execution_count": 11,
   "source": [
    "gridSearch.best_estimator_"
   ],
   "outputs": [
    {
     "output_type": "execute_result",
     "data": {
      "text/plain": [
       "DecisionTreeClassifier(max_depth=23, random_state=39)"
      ]
     },
     "metadata": {},
     "execution_count": 11
    }
   ],
   "metadata": {}
  },
  {
   "cell_type": "markdown",
   "source": [
    "## 4.b. Classification Result - Statistical"
   ],
   "metadata": {
    "slideshow": {
     "slide_type": "slide"
    }
   }
  },
  {
   "cell_type": "code",
   "execution_count": 12,
   "source": [
    "classifier.score(trainX, trainY)"
   ],
   "outputs": [
    {
     "output_type": "execute_result",
     "data": {
      "text/plain": [
       "0.9737333333333333"
      ]
     },
     "metadata": {},
     "execution_count": 12
    }
   ],
   "metadata": {
    "slideshow": {
     "slide_type": "subslide"
    }
   }
  },
  {
   "cell_type": "code",
   "execution_count": 13,
   "source": [
    "classifier.score(testX, testY)"
   ],
   "outputs": [
    {
     "output_type": "execute_result",
     "data": {
      "text/plain": [
       "0.7461333333333333"
      ]
     },
     "metadata": {},
     "execution_count": 13
    }
   ],
   "metadata": {
    "slideshow": {
     "slide_type": "fragment"
    }
   }
  },
  {
   "cell_type": "code",
   "execution_count": 14,
   "source": [
    "predictY = classifier.predict(testX)\r\n",
    "print(classification_report(testY, predictY))"
   ],
   "outputs": [
    {
     "output_type": "stream",
     "name": "stdout",
     "text": [
      "              precision    recall  f1-score   support\n",
      "\n",
      "       False       0.83      0.85      0.84      5841\n",
      "        True       0.42      0.39      0.41      1659\n",
      "\n",
      "    accuracy                           0.75      7500\n",
      "   macro avg       0.63      0.62      0.62      7500\n",
      "weighted avg       0.74      0.75      0.74      7500\n",
      "\n"
     ]
    }
   ],
   "metadata": {
    "scrolled": true,
    "slideshow": {
     "slide_type": "subslide"
    }
   }
  },
  {
   "cell_type": "code",
   "execution_count": 15,
   "source": [
    "roc_auc_score(testY, predictY)"
   ],
   "outputs": [
    {
     "output_type": "execute_result",
     "data": {
      "text/plain": [
       "0.6201506900927627"
      ]
     },
     "metadata": {},
     "execution_count": 15
    }
   ],
   "metadata": {}
  },
  {
   "cell_type": "code",
   "execution_count": 16,
   "source": [
    "pandas.DataFrame(\r\n",
    "    confusion_matrix(testY, predictY),\r\n",
    "    columns=['Predicted | Not Defaulter', 'Defaulter'],\r\n",
    "    index=['Correct | Not Defaulter', 'Defaulter'])"
   ],
   "outputs": [
    {
     "output_type": "execute_result",
     "data": {
      "text/html": [
       "<div>\n",
       "<style scoped>\n",
       "    .dataframe tbody tr th:only-of-type {\n",
       "        vertical-align: middle;\n",
       "    }\n",
       "\n",
       "    .dataframe tbody tr th {\n",
       "        vertical-align: top;\n",
       "    }\n",
       "\n",
       "    .dataframe thead th {\n",
       "        text-align: right;\n",
       "    }\n",
       "</style>\n",
       "<table border=\"1\" class=\"dataframe\">\n",
       "  <thead>\n",
       "    <tr style=\"text-align: right;\">\n",
       "      <th></th>\n",
       "      <th>Predicted | Not Defaulter</th>\n",
       "      <th>Defaulter</th>\n",
       "    </tr>\n",
       "  </thead>\n",
       "  <tbody>\n",
       "    <tr>\n",
       "      <th>Correct | Not Defaulter</th>\n",
       "      <td>4942</td>\n",
       "      <td>899</td>\n",
       "    </tr>\n",
       "    <tr>\n",
       "      <th>Defaulter</th>\n",
       "      <td>1005</td>\n",
       "      <td>654</td>\n",
       "    </tr>\n",
       "  </tbody>\n",
       "</table>\n",
       "</div>"
      ],
      "text/plain": [
       "                         Predicted | Not Defaulter  Defaulter\n",
       "Correct | Not Defaulter                       4942        899\n",
       "Defaulter                                     1005        654"
      ]
     },
     "metadata": {},
     "execution_count": 16
    }
   ],
   "metadata": {
    "slideshow": {
     "slide_type": "fragment"
    }
   }
  },
  {
   "cell_type": "markdown",
   "source": [
    "## 4.c. Classification Result - Graphical"
   ],
   "metadata": {}
  },
  {
   "cell_type": "code",
   "execution_count": 17,
   "source": [
    "\r\n",
    "import numpy as np\r\n",
    "import matplotlib.pyplot as plt\r\n",
    "from sklearn.model_selection import learning_curve\r\n",
    "\r\n",
    "\r\n",
    "def plot_learning_curve(estimator, title, X, y, axes=None, ylim=None, cv=None,\r\n",
    "                        n_jobs=None, train_sizes=np.linspace(.1, 1.0, 5), scoring=None):\r\n",
    "    \"\"\"\r\n",
    "    Generate 3 plots: the test and training learning curve, the training\r\n",
    "    samples vs fit times curve, the fit times vs score curve.\r\n",
    "\r\n",
    "    Parameters\r\n",
    "    ----------\r\n",
    "    estimator : estimator instance\r\n",
    "        An estimator instance implementing `fit` and `predict` methods which\r\n",
    "        will be cloned for each validation.\r\n",
    "\r\n",
    "    title : str\r\n",
    "        Title for the chart.\r\n",
    "\r\n",
    "    X : array-like of shape (n_samples, n_features)\r\n",
    "        Training vector, where ``n_samples`` is the number of samples and\r\n",
    "        ``n_features`` is the number of features.\r\n",
    "\r\n",
    "    y : array-like of shape (n_samples) or (n_samples, n_features)\r\n",
    "        Target relative to ``X`` for classification or regression;\r\n",
    "        None for unsupervised learning.\r\n",
    "\r\n",
    "    axes : array-like of shape (3,), default=None\r\n",
    "        Axes to use for plotting the curves.\r\n",
    "\r\n",
    "    ylim : tuple of shape (2,), default=None\r\n",
    "        Defines minimum and maximum y-values plotted, e.g. (ymin, ymax).\r\n",
    "\r\n",
    "    cv : int, cross-validation generator or an iterable, default=None\r\n",
    "        Determines the cross-validation splitting strategy.\r\n",
    "        Possible inputs for cv are:\r\n",
    "\r\n",
    "          - None, to use the default 5-fold cross-validation,\r\n",
    "          - integer, to specify the number of folds.\r\n",
    "          - :term:`CV splitter`,\r\n",
    "          - An iterable yielding (train, test) splits as arrays of indices.\r\n",
    "\r\n",
    "        For integer/None inputs, if ``y`` is binary or multiclass,\r\n",
    "        :class:`StratifiedKFold` used. If the estimator is not a classifier\r\n",
    "        or if ``y`` is neither binary nor multiclass, :class:`KFold` is used.\r\n",
    "\r\n",
    "        Refer :ref:`User Guide <cross_validation>` for the various\r\n",
    "        cross-validators that can be used here.\r\n",
    "\r\n",
    "    n_jobs : int or None, default=None\r\n",
    "        Number of jobs to run in parallel.\r\n",
    "        ``None`` means 1 unless in a :obj:`joblib.parallel_backend` context.\r\n",
    "        ``-1`` means using all processors. See :term:`Glossary <n_jobs>`\r\n",
    "        for more details.\r\n",
    "\r\n",
    "    train_sizes : array-like of shape (n_ticks,), dtype={int, float}\r\n",
    "        Relative or absolute numbers of training examples that will be used to\r\n",
    "        generate the learning curve. If the ``dtype`` is float, it is regarded\r\n",
    "        as a fraction of the maximum size of the training set (that is\r\n",
    "        determined by the selected validation method), i.e. it has to be within\r\n",
    "        (0, 1]. Otherwise it is interpreted as absolute sizes of the training\r\n",
    "        sets. Note that for classification the number of samples usually have\r\n",
    "        to be big enough to contain at least one sample from each class.\r\n",
    "        (default: np.linspace(0.1, 1.0, 5))\r\n",
    "\r\n",
    "    scoring : str or callable, default=None\r\n",
    "        A str (see model evaluation documentation) or a scorer callable object / function with signature scorer(estimator, X, y).\r\n",
    "    \"\"\"\r\n",
    "    if axes is None:\r\n",
    "        _, axes = plt.subplots(1, 3, figsize=(20, 5))\r\n",
    "\r\n",
    "    axes[0].set_title(title)\r\n",
    "    if ylim is not None:\r\n",
    "        axes[0].set_ylim(*ylim)\r\n",
    "    axes[0].set_xlabel(\"Training examples\")\r\n",
    "    axes[0].set_ylabel(\"Score\")\r\n",
    "\r\n",
    "    train_sizes, train_scores, test_scores, fit_times, _ = \\\r\n",
    "        learning_curve(estimator, X, y, cv=cv, n_jobs=n_jobs,\r\n",
    "                       train_sizes=train_sizes,scoring=scoring,\r\n",
    "                       return_times=True)\r\n",
    "    train_scores_mean = np.mean(train_scores, axis=1)\r\n",
    "    train_scores_std = np.std(train_scores, axis=1)\r\n",
    "    test_scores_mean = np.mean(test_scores, axis=1)\r\n",
    "    test_scores_std = np.std(test_scores, axis=1)\r\n",
    "    fit_times_mean = np.mean(fit_times, axis=1)\r\n",
    "    fit_times_std = np.std(fit_times, axis=1)\r\n",
    "\r\n",
    "    # Plot learning curve\r\n",
    "    axes[0].grid()\r\n",
    "    axes[0].fill_between(train_sizes, train_scores_mean - train_scores_std,\r\n",
    "                         train_scores_mean + train_scores_std, alpha=0.1,\r\n",
    "                         color=\"r\")\r\n",
    "    axes[0].fill_between(train_sizes, test_scores_mean - test_scores_std,\r\n",
    "                         test_scores_mean + test_scores_std, alpha=0.1,\r\n",
    "                         color=\"g\")\r\n",
    "    axes[0].plot(train_sizes, train_scores_mean, 'o-', color=\"r\",\r\n",
    "                 label=\"Training score\")\r\n",
    "    axes[0].plot(train_sizes, test_scores_mean, 'o-', color=\"g\",\r\n",
    "                 label=\"Cross-validation score\")\r\n",
    "    axes[0].legend(loc=\"best\")\r\n",
    "\r\n",
    "    # Plot n_samples vs fit_times\r\n",
    "    axes[1].grid()\r\n",
    "    axes[1].plot(train_sizes, fit_times_mean, 'o-')\r\n",
    "    axes[1].fill_between(train_sizes, fit_times_mean - fit_times_std,\r\n",
    "                         fit_times_mean + fit_times_std, alpha=0.1)\r\n",
    "    axes[1].set_xlabel(\"Training examples\")\r\n",
    "    axes[1].set_ylabel(\"fit_times\")\r\n",
    "    axes[1].set_title(\"Scalability of the model\")\r\n",
    "\r\n",
    "    # Plot fit_time vs score\r\n",
    "    axes[2].grid()\r\n",
    "    axes[2].plot(fit_times_mean, test_scores_mean, 'o-')\r\n",
    "    axes[2].fill_between(fit_times_mean, test_scores_mean - test_scores_std,\r\n",
    "                         test_scores_mean + test_scores_std, alpha=0.1)\r\n",
    "    axes[2].set_xlabel(\"fit_times\")\r\n",
    "    axes[2].set_ylabel(\"Score\")\r\n",
    "    axes[2].set_title(\"Performance of the model\")\r\n",
    "\r\n",
    "    return plt"
   ],
   "outputs": [],
   "metadata": {}
  },
  {
   "cell_type": "code",
   "execution_count": 19,
   "source": [
    "plot_learning_curve(estimator=classifier, title=\"Learning Curves\", X=trainX, y=trainY, ylim=(0.3, 1.01),\r\n",
    "                    cv=5, scoring=\"balanced_accuracy\", n_jobs=-1).show()"
   ],
   "outputs": [
    {
     "output_type": "display_data",
     "data": {
      "image/png": "[encoded data removed]",
      "text/plain": [
       "<Figure size 1440x360 with 3 Axes>"
      ]
     },
     "metadata": {
      "needs_background": "light"
     }
    }
   ],
   "metadata": {}
  },
  {
   "cell_type": "markdown",
   "source": [
    "### Interpreting the learning curves:\r\n",
    "\r\n",
    "The left-most graph is the most relevant one here. It in, our test and cross-validation scores should be converging towards each-other as we move away from the x-axis origin.\r\n",
    "\r\n",
    "Training score is the theoretical maximum score achievable with the dataset and the model in their current states, cross-validation score is what has been achieved.\r\n"
   ],
   "metadata": {}
  },
  {
   "cell_type": "markdown",
   "source": [
    "## Choosing metric to compare models with:\r\n",
    "\r\n",
    "Project scope/Problem's literature review suggests that:\r\n",
    "\r\n",
    "1. We have a binary classification problem at hand.\r\n",
    "2. Since we have to identify potential defaulters, we'll have to pay relatively higher attention to this class.\r\n",
    "3. However, we can't ignore the non-defaulter class either, since incorrectly labeling them will likely result in slow, eventual erosion of credit card holders' trust, which will lead to financial loss.\r\n",
    "\r\n",
    "Benchmark model's confusion metric and learning curve suggests that:\r\n",
    "\r\n",
    "1. The classes are imbalanced.\r\n",
    "2. Looking at the recall and precision scores respectively for both classes, we can conclude that correctly identifying Defaulter (statistical minority) class is relatively difficult.\r\n",
    "\r\n",
    "Hence, we should prioritize individual defaulter datapoint over the non-defaulter, but keep things balanced overall. Also, our focus is on correctly identifying rightfully labeled datapoints.\r\n",
    "\r\n",
    "Hence we should focus on recall metric for both classes, conclusively, we will use the macro average recall aka balanced accuracy metric for comparing models' performance."
   ],
   "metadata": {}
  },
  {
   "cell_type": "markdown",
   "source": [
    "<sup><sub>\r\n",
    "Posted: 18th September, 2021, 13:20 UTC+5:30  \r\n",
    "</sub></sup>"
   ],
   "metadata": {}
  }
 ],
 "metadata": {
  "interpreter": {
   "hash": "d47b5c38045384392a8161428631bb27e6e96cfedc6fb1925a715a5ef050f6cb"
  },
  "kernelspec": {
   "display_name": "Python 3",
   "language": "python",
   "name": "python3"
  },
  "language_info": {
   "codemirror_mode": {
    "name": "ipython",
    "version": 3
   },
   "file_extension": ".py",
   "mimetype": "text/x-python",
   "name": "python",
   "nbconvert_exporter": "python",
   "pygments_lexer": "ipython3",
   "version": "3.8.5"
  }
 },
 "nbformat": 4,
 "nbformat_minor": 4
}