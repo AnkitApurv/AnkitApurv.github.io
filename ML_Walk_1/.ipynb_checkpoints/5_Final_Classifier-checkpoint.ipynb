{
 "cells": [
  {
   "cell_type": "markdown",
   "metadata": {
    "slideshow": {
     "slide_type": "slide"
    }
   },
   "source": [
    "# ML Walk-through - Part 5 of 5 - Model: Best Model for Balanced_Accuracy\r\n",
    "\r\n",
    "In this 5 part walk-through, I'll demonstrate a simple Machine Learning project to build a classifier model.\r\n",
    "\r\n",
    "ML Walk-through Series:\r\n",
    "\r\n",
    "1. Project Scoping and Data Collection\r\n",
    "2. Initial Model\r\n",
    "3. Exploratory Data Analysis\r\n",
    "4. Data Processing\r\n",
    "5. Final Model\r\n",
    "\r\n",
    "In this step, we will "
   ]
  },
  {
   "cell_type": "markdown",
   "metadata": {
    "slideshow": {
     "slide_type": "slide"
    }
   },
   "source": [
    "## 1.a. Import: Libraries"
   ]
  },
  {
   "cell_type": "code",
   "execution_count": 18,
   "metadata": {
    "slideshow": {
     "slide_type": "fragment"
    }
   },
   "outputs": [],
   "source": [
    "#data organizing\r\n",
    "import pandas #storage\r\n",
    "import numpy as np #data-type conversion\r\n",
    "from os import getcwd\r\n",
    "\r\n",
    "#scaling and encoding\r\n",
    "from sklearn.preprocessing import StandardScaler\r\n",
    "\r\n",
    "#dimentionality reduction/feature selection\r\n",
    "from sklearn.feature_selection import SelectKBest #count of k best features chi2\r\n",
    "from sklearn.feature_selection import mutual_info_classif\r\n",
    "\r\n",
    "#smote for imbalanced classes\r\n",
    "from imblearn.over_sampling import SMOTENC\r\n",
    "\r\n",
    "#preprocessing - data splitting\r\n",
    "from sklearn.model_selection import train_test_split\r\n",
    "\r\n",
    "#classifier\r\n",
    "from sklearn.ensemble import RandomForestClassifier\r\n",
    "\r\n",
    "from sklearn.linear_model import LogisticRegression\r\n",
    "\r\n",
    "from sklearn.naive_bayes import GaussianNB\r\n",
    "\r\n",
    "from sklearn.svm import SVC\r\n",
    "\r\n",
    "from sklearn.ensemble import StackingClassifier\r\n",
    "\r\n",
    "#classification result - statistical\r\n",
    "from sklearn.metrics import confusion_matrix\r\n",
    "from sklearn.metrics import classification_report\r\n",
    "from sklearn.metrics import roc_auc_score\r\n",
    "\r\n",
    "#classifier result - graphical\r\n",
    "from sklearn.model_selection import learning_curve\r\n",
    "\r\n",
    "from sklearn.exceptions import *"
   ]
  },
  {
   "cell_type": "markdown",
   "metadata": {
    "slideshow": {
     "slide_type": "slide"
    }
   },
   "source": [
    "## 1.b. Import: Dataset"
   ]
  },
  {
   "cell_type": "code",
   "execution_count": 19,
   "metadata": {
    "slideshow": {
     "slide_type": "fragment"
    }
   },
   "outputs": [],
   "source": [
    "#dtype changed from int64 to int32 to save space and speed up computation, no data was lost\r\n",
    "def cvDefPay(prediction):\r\n",
    "    mapper = {0: False, 1: True}\r\n",
    "    return mapper.get(prediction)\r\n",
    "\r\n",
    "url = getcwd() + '\\\\default of credit card clients.xls'\r\n",
    "ccd = pandas.read_excel(io = url, \\\r\n",
    "                        sheet_name='Data', header = 1, index_col = 0, \\\r\n",
    "                        dtype = {'LIMIT_BAL': np.int32, 'AGE': np.int32, 'BILL_AMT1': np.int32, 'BILL_AMT2': np.int32, 'BILL_AMT3': np.int32, 'BILL_AMT4': np.int32, 'BILL_AMT5': np.int32, 'BILL_AMT6': np.int32, 'PAY_AMT1': np.int32, 'PAY_AMT2': np.int32, 'PAY_AMT3': np.int32, 'PAY_AMT4': np.int32, 'PAY_AMT5': np.int32, 'PAY_AMT6': np.int32}, \\\r\n",
    "                       converters = {'default payment next month': cvDefPay})"
   ]
  },
  {
   "cell_type": "code",
   "execution_count": 20,
   "metadata": {
    "slideshow": {
     "slide_type": "fragment"
    }
   },
   "outputs": [],
   "source": [
    "ccd.rename(columns = {'PAY_0': 'PAY_1'}, inplace = True)\r\n",
    "ccd.rename(columns = {'default payment next month': 'default_payment_next_month'}, inplace = True)"
   ]
  },
  {
   "cell_type": "markdown",
   "metadata": {
    "slideshow": {
     "slide_type": "slide"
    }
   },
   "source": [
    "## 2.a Feature Engineering"
   ]
  },
  {
   "cell_type": "markdown",
   "metadata": {
    "slideshow": {
     "slide_type": "subslide"
    }
   },
   "source": [
    "#### 1. PAY_1 to PAY_6"
   ]
  },
  {
   "cell_type": "code",
   "execution_count": 21,
   "metadata": {
    "slideshow": {
     "slide_type": "fragment"
    }
   },
   "outputs": [],
   "source": [
    "ccdr = pandas.read_excel(io = url, \r\n",
    "                        sheet_name='Data', header = 1, index_col = 0)\r\n",
    "ccdr.rename(columns = {'PAY_0': 'PAY_1'}, inplace = True)"
   ]
  },
  {
   "cell_type": "code",
   "execution_count": 22,
   "metadata": {
    "slideshow": {
     "slide_type": "fragment"
    }
   },
   "outputs": [],
   "source": [
    "ccdrHistory = ccdr[['PAY_1', 'PAY_2', 'PAY_3', 'PAY_4', 'PAY_5', 'PAY_6']]\r\n",
    "ccdrHistoryMode = ccdrHistory.mode(axis = 'columns')\r\n",
    "ccdrHistorySeverest = ccdrHistoryMode.apply(func = max, axis = 'columns')\r\n",
    "ccd['PAY_MODE_SEVEREST'] = ccdrHistorySeverest"
   ]
  },
  {
   "cell_type": "markdown",
   "metadata": {
    "slideshow": {
     "slide_type": "subslide"
    }
   },
   "source": [
    "#### 2. BILL_AMT1 to BILL_AMT6"
   ]
  },
  {
   "cell_type": "code",
   "execution_count": 23,
   "metadata": {
    "slideshow": {
     "slide_type": "fragment"
    }
   },
   "outputs": [],
   "source": [
    "ccdSpent = ccd[['BILL_AMT1', 'BILL_AMT2', 'BILL_AMT3', 'BILL_AMT4', 'BILL_AMT5', 'BILL_AMT6']]\r\n",
    "ccd['BILL_AMT_MEAN'] = np.int32(ccdSpent.mean(axis = 'columns').round())"
   ]
  },
  {
   "cell_type": "markdown",
   "metadata": {
    "slideshow": {
     "slide_type": "subslide"
    }
   },
   "source": [
    "#### 3. PAY_AMT1 to PAY_AMT6"
   ]
  },
  {
   "cell_type": "code",
   "execution_count": 24,
   "metadata": {
    "slideshow": {
     "slide_type": "fragment"
    }
   },
   "outputs": [],
   "source": [
    "ccdSettled = ccd[['PAY_AMT1', 'PAY_AMT2', 'PAY_AMT3', 'PAY_AMT4', 'PAY_AMT5', 'PAY_AMT6']]\r\n",
    "ccd['PAY_AMT_MEAN'] = np.int32(ccdSettled.mean(axis = 'columns').round())"
   ]
  },
  {
   "cell_type": "markdown",
   "metadata": {},
   "source": [
    "## 2.b. Normalization"
   ]
  },
  {
   "cell_type": "markdown",
   "metadata": {},
   "source": [
    "Scaling: Only to reduce the effect of very large continuous variables (in distance based esimators).\n",
    "\n",
    "Normalization: Also reduce the effect of skewness in variables.\n",
    "\n",
    "No need in Decision Trees"
   ]
  },
  {
   "cell_type": "code",
   "execution_count": 25,
   "metadata": {},
   "outputs": [],
   "source": [
    "varsToScale = ['LIMIT_BAL', 'AGE', 'PAY_AMT1', 'PAY_AMT2', 'PAY_AMT3', 'PAY_AMT4', 'PAY_AMT5', 'PAY_AMT6', \r\n",
    "               'BILL_AMT1', 'BILL_AMT2', 'BILL_AMT3', 'BILL_AMT4', 'BILL_AMT5', 'BILL_AMT6', 'BILL_AMT_MEAN', 'PAY_AMT_MEAN']\r\n",
    "scaler = StandardScaler(copy = True)"
   ]
  },
  {
   "cell_type": "code",
   "execution_count": 26,
   "metadata": {},
   "outputs": [],
   "source": [
    "for var in varsToScale:\r\n",
    "    ccd[var] = scaler.fit_transform(ccd[var].values.reshape(-1, 1))\r\n"
   ]
  },
  {
   "cell_type": "markdown",
   "metadata": {
    "slideshow": {
     "slide_type": "slide"
    }
   },
   "source": [
    "## 2.c. Feature Selection"
   ]
  },
  {
   "cell_type": "code",
   "execution_count": 27,
   "metadata": {
    "slideshow": {
     "slide_type": "fragment"
    }
   },
   "outputs": [],
   "source": [
    "ccdY = pandas.DataFrame(ccd['default_payment_next_month'])\r\n",
    "ccdX = ccd.drop(['default_payment_next_month'], axis = 'columns')"
   ]
  },
  {
   "cell_type": "code",
   "execution_count": 28,
   "metadata": {
    "slideshow": {
     "slide_type": "fragment"
    }
   },
   "outputs": [],
   "source": [
    "featureFilter = SelectKBest(score_func = mutual_info_classif, k = np.int32(len(ccdX.columns) * 0.75))\r\n",
    "featureFilter.fit(X = ccdX, y = ccdY.values.ravel())\r\n",
    "filteredColumnsIndices = featureFilter.get_support(indices = True)\r\n",
    "\r\n",
    "ccdXdr = ccdX.iloc[:, filteredColumnsIndices]"
   ]
  },
  {
   "cell_type": "markdown",
   "metadata": {},
   "source": [
    "## 2.d. Encoding"
   ]
  },
  {
   "cell_type": "markdown",
   "metadata": {},
   "source": [
    "OneHotEncoding should be done after dimentionality reduction to ensure that one of the categories of a variable isn't dropped during feature selection, which could have been the case if OneHotEncoder was used before Feature Selection.\n",
    "\n",
    "No need to run any encoder since:\n",
    "\n",
    "1. The dataset's relevant categorical variables are pre-encoded via OrdinalEncoder.\n",
    "2. All of the categorical variables' categories have some difference in distribution in correlation with the target variable, so OneHotEncoder should not be used."
   ]
  },
  {
   "cell_type": "markdown",
   "metadata": {},
   "source": [
    "## 3.a. Data Splitting"
   ]
  },
  {
   "cell_type": "markdown",
   "metadata": {},
   "source": [
    "Data is split before oversampling to avoid synthetic datapoints in test dataset.\n",
    "\n",
    "Test dataset is separated even though GridSearchCV uses Stratified K-Fold cross-validation so that model's accuracy can be tested independently."
   ]
  },
  {
   "cell_type": "code",
   "execution_count": 29,
   "metadata": {
    "slideshow": {
     "slide_type": "fragment"
    }
   },
   "outputs": [],
   "source": [
    "trainX, testX, trainY, testY = train_test_split(ccdXdr, ccdY, test_size = 0.25, stratify = ccdY, random_state = 44)"
   ]
  },
  {
   "cell_type": "markdown",
   "metadata": {
    "slideshow": {
     "slide_type": "slide"
    }
   },
   "source": [
    "## 4. Classification: StackingClassifier"
   ]
  },
  {
   "cell_type": "code",
   "execution_count": 30,
   "metadata": {
    "slideshow": {
     "slide_type": "subslide"
    }
   },
   "outputs": [],
   "source": [
    "clfRF = RandomForestClassifier(bootstrap=False, ccp_alpha=0.0, class_weight='balanced',\r\n",
    "                               criterion='entropy', max_depth=9.5, max_features='auto',\r\n",
    "                               max_leaf_nodes=None, max_samples=None, min_impurity_decrease=0.0,\r\n",
    "                               min_impurity_split=None, min_samples_leaf=1, min_samples_split=2,\r\n",
    "                               min_weight_fraction_leaf=0.0, n_estimators=100, n_jobs=-1,\r\n",
    "                               oob_score=False, random_state=39, verbose=0, warm_start=False)\r\n",
    "\r\n",
    "clfLG = LogisticRegression(C=1.0, class_weight='balanced', dual=False,\r\n",
    "                   fit_intercept=True, intercept_scaling=1, l1_ratio=None,\r\n",
    "                   max_iter=1000, multi_class='auto', n_jobs=-1, penalty='none',\r\n",
    "                   random_state=44, solver='newton-cg', tol=0.0001, verbose=0,\r\n",
    "                   warm_start=False)\r\n",
    "\r\n",
    "clfTrue = GaussianNB(priors=None, var_smoothing=1e-09)\r\n",
    "\r\n",
    "clfFalse = SVC(cache_size = 500, max_iter = -1, random_state = 44, kernel = 'linear', C = 10,\r\n",
    "               class_weight = {True: 1.25, False: 1.0})\r\n",
    "\r\n",
    "classifier = StackingClassifier(estimators = [('clfRF', clfRF), \r\n",
    "                                              ('clfTrue', clfTrue),\r\n",
    "                                              ('clfFalse', clfFalse)],\r\n",
    "                              final_estimator = clfLG,\r\n",
    "                              n_jobs = -1,\r\n",
    "                              passthrough = True)"
   ]
  },
  {
   "cell_type": "code",
   "execution_count": 31,
   "metadata": {
    "slideshow": {
     "slide_type": "subslide"
    }
   },
   "outputs": [
    {
     "data": {
      "text/plain": [
       "StackingClassifier(estimators=[('clfRF',\n",
       "                                RandomForestClassifier(bootstrap=False,\n",
       "                                                       class_weight='balanced',\n",
       "                                                       criterion='entropy',\n",
       "                                                       max_depth=9.5, n_jobs=-1,\n",
       "                                                       random_state=39)),\n",
       "                               ('clfTrue', GaussianNB()),\n",
       "                               ('clfFalse',\n",
       "                                SVC(C=10, cache_size=500,\n",
       "                                    class_weight={False: 1.0, True: 1.25},\n",
       "                                    kernel='linear', random_state=44))],\n",
       "                   final_estimator=LogisticRegression(class_weight='balanced',\n",
       "                                                      max_iter=1000, n_jobs=-1,\n",
       "                                                      penalty='none',\n",
       "                                                      random_state=44,\n",
       "                                                      solver='newton-cg'),\n",
       "                   n_jobs=-1, passthrough=True)"
      ]
     },
     "execution_count": 31,
     "metadata": {},
     "output_type": "execute_result"
    }
   ],
   "source": [
    "classifier.fit(trainX, trainY.values.ravel())"
   ]
  },
  {
   "cell_type": "markdown",
   "metadata": {
    "slideshow": {
     "slide_type": "subslide"
    }
   },
   "source": [
    "## 4.a. Classification Result - Statistical"
   ]
  },
  {
   "cell_type": "code",
   "execution_count": 32,
   "metadata": {
    "slideshow": {
     "slide_type": "fragment"
    }
   },
   "outputs": [
    {
     "data": {
      "text/plain": [
       "0.7592"
      ]
     },
     "execution_count": 32,
     "metadata": {},
     "output_type": "execute_result"
    }
   ],
   "source": [
    "classifier.score(testX, testY)"
   ]
  },
  {
   "cell_type": "code",
   "execution_count": 33,
   "metadata": {
    "slideshow": {
     "slide_type": "subslide"
    }
   },
   "outputs": [
    {
     "name": "stdout",
     "output_type": "stream",
     "text": [
      "              precision    recall  f1-score   support\n",
      "\n",
      "       False       0.88      0.80      0.84      5841\n",
      "        True       0.47      0.60      0.53      1659\n",
      "\n",
      "    accuracy                           0.76      7500\n",
      "   macro avg       0.67      0.70      0.68      7500\n",
      "weighted avg       0.79      0.76      0.77      7500\n",
      "\n"
     ]
    }
   ],
   "source": [
    "predictY = classifier.predict(testX)\r\n",
    "print(classification_report(testY, predictY))"
   ]
  },
  {
   "cell_type": "code",
   "execution_count": 34,
   "metadata": {
    "slideshow": {
     "slide_type": "fragment"
    }
   },
   "outputs": [
    {
     "data": {
      "text/html": [
       "<div>\n",
       "<style scoped>\n",
       "    .dataframe tbody tr th:only-of-type {\n",
       "        vertical-align: middle;\n",
       "    }\n",
       "\n",
       "    .dataframe tbody tr th {\n",
       "        vertical-align: top;\n",
       "    }\n",
       "\n",
       "    .dataframe thead th {\n",
       "        text-align: right;\n",
       "    }\n",
       "</style>\n",
       "<table border=\"1\" class=\"dataframe\">\n",
       "  <thead>\n",
       "    <tr style=\"text-align: right;\">\n",
       "      <th></th>\n",
       "      <th>Predicted | Not Defaulter</th>\n",
       "      <th>Defaulter</th>\n",
       "    </tr>\n",
       "  </thead>\n",
       "  <tbody>\n",
       "    <tr>\n",
       "      <th>Correct | Not Defaulter</th>\n",
       "      <td>4693</td>\n",
       "      <td>1148</td>\n",
       "    </tr>\n",
       "    <tr>\n",
       "      <th>Defaulter</th>\n",
       "      <td>658</td>\n",
       "      <td>1001</td>\n",
       "    </tr>\n",
       "  </tbody>\n",
       "</table>\n",
       "</div>"
      ],
      "text/plain": [
       "                         Predicted | Not Defaulter  Defaulter\n",
       "Correct | Not Defaulter                       4693       1148\n",
       "Defaulter                                      658       1001"
      ]
     },
     "execution_count": 34,
     "metadata": {},
     "output_type": "execute_result"
    }
   ],
   "source": [
    "pandas.DataFrame(\r\n",
    "    confusion_matrix(testY, predictY),\r\n",
    "    columns=['Predicted | Not Defaulter', 'Defaulter'],\r\n",
    "    index=['Correct | Not Defaulter', 'Defaulter'])"
   ]
  },
  {
   "cell_type": "code",
   "execution_count": 35,
   "metadata": {},
   "outputs": [],
   "source": [
    "import numpy as np\r\n",
    "import matplotlib.pyplot as plt\r\n",
    "from sklearn.model_selection import learning_curve\r\n",
    "\r\n",
    "\r\n",
    "def plot_learning_curve(estimator, title, X, y, axes=None, ylim=None, cv=None,\r\n",
    "                        n_jobs=None, train_sizes=np.linspace(.1, 1.0, 5)):\r\n",
    "    \"\"\"\r\n",
    "    Generate 3 plots: the test and training learning curve, the training\r\n",
    "    samples vs fit times curve, the fit times vs score curve.\r\n",
    "\r\n",
    "    Parameters\r\n",
    "    ----------\r\n",
    "    estimator : estimator instance\r\n",
    "        An estimator instance implementing `fit` and `predict` methods which\r\n",
    "        will be cloned for each validation.\r\n",
    "\r\n",
    "    title : str\r\n",
    "        Title for the chart.\r\n",
    "\r\n",
    "    X : array-like of shape (n_samples, n_features)\r\n",
    "        Training vector, where ``n_samples`` is the number of samples and\r\n",
    "        ``n_features`` is the number of features.\r\n",
    "\r\n",
    "    y : array-like of shape (n_samples) or (n_samples, n_features)\r\n",
    "        Target relative to ``X`` for classification or regression;\r\n",
    "        None for unsupervised learning.\r\n",
    "\r\n",
    "    axes : array-like of shape (3,), default=None\r\n",
    "        Axes to use for plotting the curves.\r\n",
    "\r\n",
    "    ylim : tuple of shape (2,), default=None\r\n",
    "        Defines minimum and maximum y-values plotted, e.g. (ymin, ymax).\r\n",
    "\r\n",
    "    cv : int, cross-validation generator or an iterable, default=None\r\n",
    "        Determines the cross-validation splitting strategy.\r\n",
    "        Possible inputs for cv are:\r\n",
    "\r\n",
    "          - None, to use the default 5-fold cross-validation,\r\n",
    "          - integer, to specify the number of folds.\r\n",
    "          - :term:`CV splitter`,\r\n",
    "          - An iterable yielding (train, test) splits as arrays of indices.\r\n",
    "\r\n",
    "        For integer/None inputs, if ``y`` is binary or multiclass,\r\n",
    "        :class:`StratifiedKFold` used. If the estimator is not a classifier\r\n",
    "        or if ``y`` is neither binary nor multiclass, :class:`KFold` is used.\r\n",
    "\r\n",
    "        Refer :ref:`User Guide <cross_validation>` for the various\r\n",
    "        cross-validators that can be used here.\r\n",
    "\r\n",
    "    n_jobs : int or None, default=None\r\n",
    "        Number of jobs to run in parallel.\r\n",
    "        ``None`` means 1 unless in a :obj:`joblib.parallel_backend` context.\r\n",
    "        ``-1`` means using all processors. See :term:`Glossary <n_jobs>`\r\n",
    "        for more details.\r\n",
    "\r\n",
    "    train_sizes : array-like of shape (n_ticks,), dtype={int, float}\r\n",
    "        Relative or absolute numbers of training examples that will be used to\r\n",
    "        generate the learning curve. If the ``dtype`` is float, it is regarded\r\n",
    "        as a fraction of the maximum size of the training set (that is\r\n",
    "        determined by the selected validation method), i.e. it has to be within\r\n",
    "        (0, 1]. Otherwise it is interpreted as absolute sizes of the training\r\n",
    "        sets. Note that for classification the number of samples usually have\r\n",
    "        to be big enough to contain at least one sample from each class.\r\n",
    "        (default: np.linspace(0.1, 1.0, 5))\r\n",
    "    \"\"\"\r\n",
    "    if axes is None:\r\n",
    "        _, axes = plt.subplots(1, 3, figsize=(20, 5))\r\n",
    "\r\n",
    "    axes[0].set_title(title)\r\n",
    "    if ylim is not None:\r\n",
    "        axes[0].set_ylim(*ylim)\r\n",
    "    axes[0].set_xlabel(\"Training examples\")\r\n",
    "    axes[0].set_ylabel(\"Score\")\r\n",
    "\r\n",
    "    train_sizes, train_scores, test_scores, fit_times, _ = \\\r\n",
    "        learning_curve(estimator, X, y, cv=cv, n_jobs=n_jobs,\r\n",
    "                       train_sizes=train_sizes,\r\n",
    "                       return_times=True)\r\n",
    "    train_scores_mean = np.mean(train_scores, axis=1)\r\n",
    "    train_scores_std = np.std(train_scores, axis=1)\r\n",
    "    test_scores_mean = np.mean(test_scores, axis=1)\r\n",
    "    test_scores_std = np.std(test_scores, axis=1)\r\n",
    "    fit_times_mean = np.mean(fit_times, axis=1)\r\n",
    "    fit_times_std = np.std(fit_times, axis=1)\r\n",
    "\r\n",
    "    # Plot learning curve\r\n",
    "    axes[0].grid()\r\n",
    "    axes[0].fill_between(train_sizes, train_scores_mean - train_scores_std,\r\n",
    "                         train_scores_mean + train_scores_std, alpha=0.1,\r\n",
    "                         color=\"r\")\r\n",
    "    axes[0].fill_between(train_sizes, test_scores_mean - test_scores_std,\r\n",
    "                         test_scores_mean + test_scores_std, alpha=0.1,\r\n",
    "                         color=\"g\")\r\n",
    "    axes[0].plot(train_sizes, train_scores_mean, 'o-', color=\"r\",\r\n",
    "                 label=\"Training score\")\r\n",
    "    axes[0].plot(train_sizes, test_scores_mean, 'o-', color=\"g\",\r\n",
    "                 label=\"Cross-validation score\")\r\n",
    "    axes[0].legend(loc=\"best\")\r\n",
    "\r\n",
    "    # Plot n_samples vs fit_times\r\n",
    "    axes[1].grid()\r\n",
    "    axes[1].plot(train_sizes, fit_times_mean, 'o-')\r\n",
    "    axes[1].fill_between(train_sizes, fit_times_mean - fit_times_std,\r\n",
    "                         fit_times_mean + fit_times_std, alpha=0.1)\r\n",
    "    axes[1].set_xlabel(\"Training examples\")\r\n",
    "    axes[1].set_ylabel(\"fit_times\")\r\n",
    "    axes[1].set_title(\"Scalability of the model\")\r\n",
    "\r\n",
    "    # Plot fit_time vs score\r\n",
    "    axes[2].grid()\r\n",
    "    axes[2].plot(fit_times_mean, test_scores_mean, 'o-')\r\n",
    "    axes[2].fill_between(fit_times_mean, test_scores_mean - test_scores_std,\r\n",
    "                         test_scores_mean + test_scores_std, alpha=0.1)\r\n",
    "    axes[2].set_xlabel(\"fit_times\")\r\n",
    "    axes[2].set_ylabel(\"Score\")\r\n",
    "    axes[2].set_title(\"Performance of the model\")\r\n",
    "\r\n",
    "    return plt"
   ]
  },
  {
   "cell_type": "code",
   "execution_count": 36,
   "metadata": {},
   "outputs": [
    {
     "data": {
      "image/png": "[encoded data removed]",
      "text/plain": [
       "<Figure size 1440x360 with 3 Axes>"
      ]
     },
     "metadata": {
      "needs_background": "light"
     },
     "output_type": "display_data"
    }
   ],
   "source": [
    "plot_learning_curve(classifier, \"Learning Curves\", trainX, trainY, ylim=(0.7, 1.01),\r\n",
    "                    cv=5, n_jobs=-1).show()"
   ]
  },
  {
   "cell_type": "code",
   "execution_count": null,
   "metadata": {},
   "outputs": [],
   "source": []
  }
 ],
 "metadata": {
  "interpreter": {
   "hash": "d47b5c38045384392a8161428631bb27e6e96cfedc6fb1925a715a5ef050f6cb"
  },
  "kernelspec": {
   "display_name": "Python [conda env:.conda-CreditDefaulterClassification]",
   "language": "python",
   "name": "conda-env-.conda-CreditDefaulterClassification-py"
  },
  "language_info": {
   "codemirror_mode": {
    "name": "ipython",
    "version": 3
   },
   "file_extension": ".py",
   "mimetype": "text/x-python",
   "name": "python",
   "nbconvert_exporter": "python",
   "pygments_lexer": "ipython3",
   "version": "3.8.5"
  }
 },
 "nbformat": 4,
 "nbformat_minor": 4
}
