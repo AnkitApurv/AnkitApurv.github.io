{
 "cells": [
  {
   "cell_type": "markdown",
   "metadata": {
    "slideshow": {
     "slide_type": "slide"
    }
   },
   "source": [
    "# ML Walk-through - Part 3 of 5 - Exploratory Data Analysis\r\n",
    "\r\n",
    "In this 5 part walk-through, I'll demonstrate a simple Machine Learning project to build a classifier model.\r\n",
    "\r\n",
    "ML Walk-through Series:\r\n",
    "\r\n",
    "1. Project Scoping and Data Collection\r\n",
    "2. Initial Model\r\n",
    "3. Exploratory Data Analysis\r\n",
    "4. Data Processing\r\n",
    "5. Final Model\r\n",
    "\r\n",
    "In this step, we will perform some statistical and graphical analysis on some of the important individual variables to get a better understanding of the dataset, the domain and the problem.\r\n"
   ]
  },
  {
   "cell_type": "markdown",
   "metadata": {
    "slideshow": {
     "slide_type": "slide"
    }
   },
   "source": [
    "## 1. Pre-Requisites\n",
    "#### 1.1. Libraries"
   ]
  },
  {
   "cell_type": "code",
   "execution_count": 38,
   "metadata": {
    "slideshow": {
     "slide_type": "fragment"
    }
   },
   "outputs": [],
   "source": [
    "#data storage and organization\r\n",
    "import pandas #storage\r\n",
    "import numpy as np #data-type conversion\r\n",
    "from os import getcwd\r\n",
    "\r\n",
    "#visual analysis\r\n",
    "%matplotlib inline\r\n",
    "import seaborn\r\n",
    "import matplotlib.pyplot as plt  #allows modifying plots\r\n",
    "\r\n",
    "#statistical analysis\r\n",
    "    #Chi-Squared test\r\n",
    "from scipy.stats import chi2_contingency\r\n",
    "    #ANOVA\r\n",
    "from scipy.stats import f_oneway\r\n",
    "    #MANOVA (Multivariate Analysis of Variance)\r\n",
    "from statsmodels.multivariate.manova import MANOVA"
   ]
  },
  {
   "cell_type": "markdown",
   "metadata": {
    "slideshow": {
     "slide_type": "slide"
    }
   },
   "source": [
    "Converter functions"
   ]
  },
  {
   "cell_type": "code",
   "execution_count": 2,
   "metadata": {
    "slideshow": {
     "slide_type": "subslide"
    }
   },
   "outputs": [],
   "source": [
    "def cvSex(sex):\r\n",
    "    mapper = {1: 'Male', 2: 'Female'}\r\n",
    "    return mapper.get(sex)\r\n",
    "\r\n",
    "def cvEducation(education):\r\n",
    "    mapper = {1: 'Graduate', 2: 'University', 3: 'High School', 4: 'Others'}\r\n",
    "    return mapper.get(education, 'Others') #takes care of cases 0, 5 and 6\r\n",
    "\r\n",
    "def cvMarriage(marriage):\r\n",
    "    mapper = {1: 'Married', 2: 'Single', 3: 'Divorced', 4: 'Others'}\r\n",
    "    return mapper.get(marriage, 'Others') #takes care of 54 entries\r\n",
    "\r\n",
    "def cvPayHistory(payHistory):\r\n",
    "    mapper = {-2: 'No Credit Use', -1: 'Paid in Full', 0: 'Revolving Credit Used', 1: 'Delay 1 of month', 2: 'Delay 2 of months', 3: 'Delay 3 of months', 4: 'Delay 4 of months', 5: 'Delay 5 of months', 6: 'Delay 6 of months', 7: 'Delay 7 of months', 8: 'Delay 8 of months', 9: 'Delay 9 of months OR more'}\r\n",
    "    return mapper.get(payHistory)\r\n",
    "\r\n",
    "def cvDefPay(prediction):\r\n",
    "    mapper = {0: False, 1: True}\r\n",
    "    return mapper.get(prediction)"
   ]
  },
  {
   "cell_type": "markdown",
   "metadata": {},
   "source": [
    "#### 1.2. Importing the dataset\n",
    "\n",
    "API Docs: [Pandas DataFrame read_excel()](https://pandas.pydata.org/pandas-docs/stable/reference/api/pandas.read_excel.html)"
   ]
  },
  {
   "cell_type": "code",
   "execution_count": 3,
   "metadata": {
    "slideshow": {
     "slide_type": "subslide"
    }
   },
   "outputs": [],
   "source": [
    "url = getcwd() + '\\\\default of credit card clients.xls'\n",
    "ccd = pandas.read_excel(io = url, \\\n",
    "                        sheet_name='Data', header = 1, index_col = 0, \\\n",
    "                        dtype = {'LIMIT_BAL': np.int32, 'AGE': np.int32, 'BILL_AMT1': np.int32, 'BILL_AMT2': np.int32, 'BILL_AMT3': np.int32, 'BILL_AMT4': np.int32, 'BILL_AMT5': np.int32, 'BILL_AMT6': np.int32, 'PAY_AMT1': np.int32, 'PAY_AMT2': np.int32, 'PAY_AMT3': np.int32, 'PAY_AMT4': np.int32, 'PAY_AMT5': np.int32, 'PAY_AMT6': np.int32}, \\\n",
    "                        converters = {'SEX': cvSex, 'EDUCATION': cvEducation, 'MARRIAGE': cvMarriage, 'default payment next month': cvDefPay, 'PAY_0': cvPayHistory, 'PAY_2': cvPayHistory, 'PAY_3': cvPayHistory, 'PAY_4': cvPayHistory, 'PAY_5': cvPayHistory, 'PAY_6': cvPayHistory,})"
   ]
  },
  {
   "cell_type": "markdown",
   "metadata": {},
   "source": [
    "__dtype__ changed from int64 to int32 to save space and speed up computation, however, while doing so, we should firstly know that there won't be any overflow or underflow of data.\n",
    "\n",
    "__converters__ utilize the previously defined converter methods to transform categorical data into a better understandable format. It's not needed for solving the classification problem, but just to understand the data we are working with.\n",
    "\n",
    "#### 1.3. Bringing variables' names upto convention"
   ]
  },
  {
   "cell_type": "code",
   "execution_count": 4,
   "metadata": {
    "slideshow": {
     "slide_type": "fragment"
    }
   },
   "outputs": [],
   "source": [
    "ccd.rename(columns = {'PAY_0': 'PAY_1'}, inplace = True)\n",
    "ccd.rename(columns = {'default payment next month': 'default_payment_next_month'}, inplace = True)"
   ]
  },
  {
   "cell_type": "markdown",
   "metadata": {
    "slideshow": {
     "slide_type": "slide"
    }
   },
   "source": [
    "## Exploratory Data Analysis\n",
    "\n",
    "I won't be going through all the variables and combinations thereof, just a few as examples. Also, in case of very large datasets, through EDA might not be possible, in such cases we go through only the more \n",
    "\n",
    "### Segments:\n",
    "#### 1. Personal\n",
    "\n",
    "#### 2. Financial\n",
    "1. Expended\n",
    "2. Paid\n",
    "3. Behaviour"
   ]
  },
  {
   "cell_type": "markdown",
   "metadata": {
    "slideshow": {
     "slide_type": "slide"
    }
   },
   "source": [
    "## 2. Exploratory Data Analysis\n",
    "### 2.1. Overall Dataset EDA"
   ]
  },
  {
   "cell_type": "code",
   "execution_count": 5,
   "metadata": {
    "slideshow": {
     "slide_type": "fragment"
    }
   },
   "outputs": [
    {
     "data": {
      "text/plain": [
       "False"
      ]
     },
     "execution_count": 5,
     "metadata": {},
     "output_type": "execute_result"
    }
   ],
   "source": [
    "#check for missing values\n",
    "ccd.isnull().values.any()"
   ]
  },
  {
   "cell_type": "markdown",
   "metadata": {
    "slideshow": {
     "slide_type": "slide"
    }
   },
   "source": [
    "### 2.2. Variable wise' EDA\n",
    "\n",
    "#### Univariate:\n",
    "1. Distribution\n",
    "2. Outlier detection\n",
    "\n",
    "#### Bivariate:\n",
    "1. Continuous - Continuous: Correlation Co-efficient{Pearson, Spearman}. [-1 <= p-value >= +1]\n",
    "\n",
    "2. Continuous - Categorical: Analysis of Variance(ANOVA): Determine whether the differences between group means are statistically significant. [α = 0.05]\n",
    "\n",
    "3. Categorical - Categorical: Chi-Square test. [α > 0.05 for insignificance]"
   ]
  },
  {
   "cell_type": "markdown",
   "metadata": {
    "slideshow": {
     "slide_type": "slide"
    }
   },
   "source": [
    "#### 2.2.a. LIMIT_BAL\n",
    "\n",
    "Type - Numerical - Continuous - Ratio\n",
    "\n",
    "Segment - Financial - Behaviour\n",
    "\n",
    "Comments - None"
   ]
  },
  {
   "cell_type": "markdown",
   "metadata": {
    "slideshow": {
     "slide_type": "subslide"
    }
   },
   "source": [
    "##### i> Univariate"
   ]
  },
  {
   "cell_type": "code",
   "execution_count": 6,
   "metadata": {
    "slideshow": {
     "slide_type": "fragment"
    }
   },
   "outputs": [
    {
     "data": {
      "text/plain": [
       "<matplotlib.axes._subplots.AxesSubplot at 0x18d4e3b0148>"
      ]
     },
     "execution_count": 6,
     "metadata": {},
     "output_type": "execute_result"
    },
    {
     "data": {
      "image/png": "[encoded data removed]",
      "text/plain": [
       "<Figure size 432x288 with 1 Axes>"
      ]
     },
     "metadata": {
      "needs_background": "light"
     },
     "output_type": "display_data"
    }
   ],
   "source": [
    "#for distribution and density\n",
    "seaborn.distplot(a = ccd['LIMIT_BAL'], bins = ccd['LIMIT_BAL'].value_counts().size, kde = True, hist = True, rug = True)\n",
    "\n",
    "#ccd['LIMIT_BAL'].value_counts().size == 81"
   ]
  },
  {
   "cell_type": "code",
   "execution_count": 7,
   "metadata": {
    "slideshow": {
     "slide_type": "subslide"
    }
   },
   "outputs": [
    {
     "data": {
      "text/plain": [
       "<matplotlib.axes._subplots.AxesSubplot at 0x18d55f26f48>"
      ]
     },
     "execution_count": 7,
     "metadata": {},
     "output_type": "execute_result"
    },
    {
     "data": {
      "image/png": "[encoded data removed]",
      "text/plain": [
       "<Figure size 432x288 with 1 Axes>"
      ]
     },
     "metadata": {
      "needs_background": "light"
     },
     "output_type": "display_data"
    }
   ],
   "source": [
    "#for outliers\n",
    "seaborn.boxplot(x = 'LIMIT_BAL', data = ccd)"
   ]
  },
  {
   "cell_type": "markdown",
   "metadata": {
    "slideshow": {
     "slide_type": "subslide"
    }
   },
   "source": [
    "##### ii> Bivariate Graphical"
   ]
  },
  {
   "cell_type": "code",
   "execution_count": 8,
   "metadata": {
    "slideshow": {
     "slide_type": "fragment"
    }
   },
   "outputs": [
    {
     "data": {
      "text/plain": [
       "<matplotlib.axes._subplots.AxesSubplot at 0x18d55fbf0c8>"
      ]
     },
     "execution_count": 8,
     "metadata": {},
     "output_type": "execute_result"
    },
    {
     "data": {
      "image/png": "[encoded data removed]",
      "text/plain": [
       "<Figure size 432x288 with 1 Axes>"
      ]
     },
     "metadata": {
      "needs_background": "light"
     },
     "output_type": "display_data"
    }
   ],
   "source": [
    "#for relation between LIMIT_BAL and target variable\n",
    "seaborn.violinplot(x = ccd['default_payment_next_month'], y = ccd['LIMIT_BAL'])"
   ]
  },
  {
   "cell_type": "code",
   "execution_count": 9,
   "metadata": {
    "slideshow": {
     "slide_type": "subslide"
    }
   },
   "outputs": [
    {
     "data": {
      "text/plain": [
       "<seaborn.axisgrid.JointGrid at 0x18d55abf308>"
      ]
     },
     "execution_count": 9,
     "metadata": {},
     "output_type": "execute_result"
    },
    {
     "data": {
      "image/png": "[encoded data removed]",
      "text/plain": [
       "<Figure size 432x432 with 3 Axes>"
      ]
     },
     "metadata": {
      "needs_background": "light"
     },
     "output_type": "display_data"
    }
   ],
   "source": [
    "#for relation between LIMIT_BAL and AGE\n",
    "seaborn.jointplot(x = ccd['LIMIT_BAL'], y = ccd['AGE'], kind = 'kde')"
   ]
  },
  {
   "cell_type": "markdown",
   "metadata": {
    "slideshow": {
     "slide_type": "subslide"
    }
   },
   "source": [
    "##### iii> Bivariate Statistical"
   ]
  },
  {
   "cell_type": "code",
   "execution_count": 10,
   "metadata": {
    "slideshow": {
     "slide_type": "fragment"
    }
   },
   "outputs": [
    {
     "data": {
      "text/html": [
       "<div>\n",
       "<style scoped>\n",
       "    .dataframe tbody tr th:only-of-type {\n",
       "        vertical-align: middle;\n",
       "    }\n",
       "\n",
       "    .dataframe tbody tr th {\n",
       "        vertical-align: top;\n",
       "    }\n",
       "\n",
       "    .dataframe thead th {\n",
       "        text-align: right;\n",
       "    }\n",
       "</style>\n",
       "<table border=\"1\" class=\"dataframe\">\n",
       "  <thead>\n",
       "    <tr style=\"text-align: right;\">\n",
       "      <th></th>\n",
       "      <th>mean</th>\n",
       "      <th>median</th>\n",
       "      <th>count_nonzero</th>\n",
       "      <th>std</th>\n",
       "    </tr>\n",
       "    <tr>\n",
       "      <th>default_payment_next_month</th>\n",
       "      <th></th>\n",
       "      <th></th>\n",
       "      <th></th>\n",
       "      <th></th>\n",
       "    </tr>\n",
       "  </thead>\n",
       "  <tbody>\n",
       "    <tr>\n",
       "      <th>False</th>\n",
       "      <td>178099.726074</td>\n",
       "      <td>150000</td>\n",
       "      <td>23364</td>\n",
       "      <td>131628.359660</td>\n",
       "    </tr>\n",
       "    <tr>\n",
       "      <th>True</th>\n",
       "      <td>130109.656420</td>\n",
       "      <td>90000</td>\n",
       "      <td>6636</td>\n",
       "      <td>115378.540571</td>\n",
       "    </tr>\n",
       "  </tbody>\n",
       "</table>\n",
       "</div>"
      ],
      "text/plain": [
       "                                     mean  median  count_nonzero  \\\n",
       "default_payment_next_month                                         \n",
       "False                       178099.726074  150000          23364   \n",
       "True                        130109.656420   90000           6636   \n",
       "\n",
       "                                      std  \n",
       "default_payment_next_month                 \n",
       "False                       131628.359660  \n",
       "True                        115378.540571  "
      ]
     },
     "execution_count": 10,
     "metadata": {},
     "output_type": "execute_result"
    }
   ],
   "source": [
    "ccd.groupby('default_payment_next_month').agg([np.mean, np.median, np.count_nonzero, np.std]).LIMIT_BAL"
   ]
  },
  {
   "cell_type": "markdown",
   "metadata": {
    "slideshow": {
     "slide_type": "subslide"
    }
   },
   "source": [
    "##### iii> b. ANOVA - F One-Way"
   ]
  },
  {
   "cell_type": "code",
   "execution_count": 11,
   "metadata": {
    "slideshow": {
     "slide_type": "fragment"
    }
   },
   "outputs": [
    {
     "data": {
      "text/plain": [
       "F_onewayResult(statistic=724.0685392611651, pvalue=1.3022439532706416e-157)"
      ]
     },
     "execution_count": 11,
     "metadata": {},
     "output_type": "execute_result"
    }
   ],
   "source": [
    "f_oneway(ccd['LIMIT_BAL'][ccd['default_payment_next_month'] == True],\n",
    "        ccd['LIMIT_BAL'][ccd['default_payment_next_month'] == False])"
   ]
  },
  {
   "cell_type": "markdown",
   "metadata": {
    "slideshow": {
     "slide_type": "subslide"
    }
   },
   "source": [
    "##### iv> Conclusion\n",
    "Expectation - \n",
    "1. Balance limit will vary with age (professionals accumulate wealth over their career, thus alloting them higher limits as they age is logical.)\n",
    "2. Majority of credit availers are likely to have lower limit, possibly sharing the same LIMIT_BAL bracket.\n",
    "\n",
    "Conclusion -\n",
    "1. (Plot 3) Distribution is highly concentrated on [20>=AGE<=30, 0>=LIMIT_BAL<=200000], however distribution is also expanding on the axes.\n",
    "2. True, defaulters are more likely to be having LIMIT_BAL in lower limits (LIMIT_BAL <= 200000). (Plot 1)\n",
    "3. People with higher LIMIT_BAL are less likely to default. (LIMIT_BAL >= 400000) (Plot 2 density, Crosstab)\n",
    "4. One-Way ANOVA: p-value being below 0.05, difference between means is statistically significant to a very high degree. There exists a strong relation between LIMIT_BAL and 'default payment'.\n",
    "\n",
    "Comments - The variable being 'Balance Limit' is likely to be directly correlated to wealth, it's not unusual to have outliers."
   ]
  },
  {
   "cell_type": "markdown",
   "metadata": {
    "slideshow": {
     "slide_type": "slide"
    }
   },
   "source": [
    "#### 2.2.b. PAY {PAY_1 to PAY_6}\n",
    "\n",
    "Type - Categorical - Ordinal\n",
    "\n",
    "Segment - Financial - Behaviour\n",
    "\n",
    "Legend - \n",
    "\n",
    "{PAY_1: September 2005, PAY_2: August 2005, PAY_3: July 2005, PAY_4: June 2005, PAY_5: May 2005, PAY_6: April 2005}\n",
    "\n",
    "{-2: 'No Credit Use', -1: 'Paid in Full', 0: 'Revolving Credit Used', 1: 'Delay 1 of month', 2: 'Delay 2 of months', 3: 'Delay 3 of months', 4: 'Delay 4 of months', 5: 'Delay 5 of months', 6: 'Delay 6 of months', 7: 'Delay 7 of months', 8: 'Delay 8 of months', 9: 'Delay 9 of months OR more'}"
   ]
  },
  {
   "cell_type": "markdown",
   "metadata": {
    "slideshow": {
     "slide_type": "subslide"
    }
   },
   "source": [
    "##### i> Dimentionalty Reduction\n",
    "NOTE: Using mode to aggregate. An entry may have mutiple mode values (same frequency), to resolve, using severest class."
   ]
  },
  {
   "cell_type": "code",
   "execution_count": 12,
   "metadata": {
    "slideshow": {
     "slide_type": "fragment"
    }
   },
   "outputs": [],
   "source": [
    "ccdr = pandas.read_excel(io = url, \n",
    "                        sheet_name='Data', header = 1, index_col = 0)\n",
    "ccdr.rename(columns = {'PAY_0': 'PAY_1'}, inplace = True)"
   ]
  },
  {
   "cell_type": "code",
   "execution_count": 13,
   "metadata": {
    "slideshow": {
     "slide_type": "fragment"
    }
   },
   "outputs": [],
   "source": [
    "ccdHistory = ccd[['PAY_1', 'PAY_2', 'PAY_3', 'PAY_4', 'PAY_5', 'PAY_6']]\n",
    "ccdrHistory = ccdr[['PAY_1', 'PAY_2', 'PAY_3', 'PAY_4', 'PAY_5', 'PAY_6']]"
   ]
  },
  {
   "cell_type": "markdown",
   "metadata": {
    "slideshow": {
     "slide_type": "fragment"
    }
   },
   "source": [
    "NOTE: Why severest value? To ensure fiscally fit population of credit users."
   ]
  },
  {
   "cell_type": "code",
   "execution_count": 14,
   "metadata": {
    "slideshow": {
     "slide_type": "fragment"
    }
   },
   "outputs": [],
   "source": [
    "ccdrHistoryMode = ccdrHistory.mode(axis = 'columns')\n",
    "ccdrHistorySeverest = ccdrHistoryMode.apply(func = max, axis = 'columns')\n",
    "ccdPayHistoryMode = map(cvPayHistory, ccdrHistorySeverest)"
   ]
  },
  {
   "cell_type": "code",
   "execution_count": 15,
   "metadata": {
    "slideshow": {
     "slide_type": "fragment"
    }
   },
   "outputs": [],
   "source": [
    "ccd['PAY_MODE_SEVEREST'] = list(ccdPayHistoryMode)"
   ]
  },
  {
   "cell_type": "markdown",
   "metadata": {
    "slideshow": {
     "slide_type": "subslide"
    }
   },
   "source": [
    "##### ii> Univariate"
   ]
  },
  {
   "cell_type": "code",
   "execution_count": 16,
   "metadata": {
    "slideshow": {
     "slide_type": "fragment"
    }
   },
   "outputs": [
    {
     "data": {
      "text/plain": [
       "Revolving Credit Used    17076\n",
       "Paid in Full              5691\n",
       "No Credit Use             3897\n",
       "Delay 2 of months         3047\n",
       "Delay 3 of months          104\n",
       "Delay 7 of months           67\n",
       "Delay 4 of months           58\n",
       "Delay 8 of months           23\n",
       "Delay 5 of months           17\n",
       "Delay 6 of months           11\n",
       "Delay 1 of month             9\n",
       "Name: PAY_MODE_SEVEREST, dtype: int64"
      ]
     },
     "execution_count": 16,
     "metadata": {},
     "output_type": "execute_result"
    }
   ],
   "source": [
    "ccd['PAY_MODE_SEVEREST'].value_counts()"
   ]
  },
  {
   "cell_type": "code",
   "execution_count": 17,
   "metadata": {
    "slideshow": {
     "slide_type": "fragment"
    }
   },
   "outputs": [
    {
     "data": {
      "text/html": [
       "<div>\n",
       "<style scoped>\n",
       "    .dataframe tbody tr th:only-of-type {\n",
       "        vertical-align: middle;\n",
       "    }\n",
       "\n",
       "    .dataframe tbody tr th {\n",
       "        vertical-align: top;\n",
       "    }\n",
       "\n",
       "    .dataframe thead th {\n",
       "        text-align: right;\n",
       "    }\n",
       "</style>\n",
       "<table border=\"1\" class=\"dataframe\">\n",
       "  <thead>\n",
       "    <tr style=\"text-align: right;\">\n",
       "      <th></th>\n",
       "      <th>LIMIT_BAL</th>\n",
       "      <th>SEX</th>\n",
       "      <th>EDUCATION</th>\n",
       "      <th>MARRIAGE</th>\n",
       "      <th>AGE</th>\n",
       "      <th>PAY_1</th>\n",
       "      <th>PAY_2</th>\n",
       "      <th>PAY_3</th>\n",
       "      <th>PAY_4</th>\n",
       "      <th>PAY_5</th>\n",
       "      <th>...</th>\n",
       "      <th>BILL_AMT5</th>\n",
       "      <th>BILL_AMT6</th>\n",
       "      <th>PAY_AMT1</th>\n",
       "      <th>PAY_AMT2</th>\n",
       "      <th>PAY_AMT3</th>\n",
       "      <th>PAY_AMT4</th>\n",
       "      <th>PAY_AMT5</th>\n",
       "      <th>PAY_AMT6</th>\n",
       "      <th>default_payment_next_month</th>\n",
       "      <th>PAY_MODE_SEVEREST</th>\n",
       "    </tr>\n",
       "    <tr>\n",
       "      <th>ID</th>\n",
       "      <th></th>\n",
       "      <th></th>\n",
       "      <th></th>\n",
       "      <th></th>\n",
       "      <th></th>\n",
       "      <th></th>\n",
       "      <th></th>\n",
       "      <th></th>\n",
       "      <th></th>\n",
       "      <th></th>\n",
       "      <th></th>\n",
       "      <th></th>\n",
       "      <th></th>\n",
       "      <th></th>\n",
       "      <th></th>\n",
       "      <th></th>\n",
       "      <th></th>\n",
       "      <th></th>\n",
       "      <th></th>\n",
       "      <th></th>\n",
       "      <th></th>\n",
       "    </tr>\n",
       "  </thead>\n",
       "  <tbody>\n",
       "  </tbody>\n",
       "</table>\n",
       "<p>0 rows × 25 columns</p>\n",
       "</div>"
      ],
      "text/plain": [
       "Empty DataFrame\n",
       "Columns: [LIMIT_BAL, SEX, EDUCATION, MARRIAGE, AGE, PAY_1, PAY_2, PAY_3, PAY_4, PAY_5, PAY_6, BILL_AMT1, BILL_AMT2, BILL_AMT3, BILL_AMT4, BILL_AMT5, BILL_AMT6, PAY_AMT1, PAY_AMT2, PAY_AMT3, PAY_AMT4, PAY_AMT5, PAY_AMT6, default_payment_next_month, PAY_MODE_SEVEREST]\n",
       "Index: []\n",
       "\n",
       "[0 rows x 25 columns]"
      ]
     },
     "execution_count": 17,
     "metadata": {},
     "output_type": "execute_result"
    }
   ],
   "source": [
    "ccd[ccd['PAY_MODE_SEVEREST'] == 'Delay 9 of months OR more']"
   ]
  },
  {
   "cell_type": "code",
   "execution_count": 18,
   "metadata": {
    "slideshow": {
     "slide_type": "subslide"
    }
   },
   "outputs": [
    {
     "data": {
      "text/plain": [
       "Revolving Credit Used    56.92 %\n",
       "Paid in Full             18.97 %\n",
       "No Credit Use            12.99 %\n",
       "Delay 2 of months        10.16 %\n",
       "Delay 3 of months         0.35 %\n",
       "Delay 7 of months         0.22 %\n",
       "Delay 4 of months         0.19 %\n",
       "Delay 8 of months         0.08 %\n",
       "Delay 5 of months         0.06 %\n",
       "Delay 6 of months         0.04 %\n",
       "Delay 1 of month          0.03 %\n",
       "Name: PAY_MODE_SEVEREST, dtype: object"
      ]
     },
     "execution_count": 18,
     "metadata": {},
     "output_type": "execute_result"
    }
   ],
   "source": [
    "ccd['PAY_MODE_SEVEREST'].value_counts(normalize = True).mul(100).round(2).astype('str') + ' %'"
   ]
  },
  {
   "cell_type": "markdown",
   "metadata": {
    "slideshow": {
     "slide_type": "subslide"
    }
   },
   "source": [
    "##### iii> Bivariate Graphical"
   ]
  },
  {
   "cell_type": "code",
   "execution_count": 40,
   "metadata": {
    "slideshow": {
     "slide_type": "fragment"
    }
   },
   "outputs": [
    {
     "data": {
      "image/png": "[encoded data removed]",
      "text/plain": [
       "<Figure size 432x288 with 1 Axes>"
      ]
     },
     "metadata": {
      "needs_background": "light"
     },
     "output_type": "display_data"
    }
   ],
   "source": [
    "ax = seaborn.countplot(hue = 'default_payment_next_month', x = 'PAY_MODE_SEVEREST', data = ccd)\n",
    "\n",
    "ax.set_xticklabels(ax.get_xticklabels(), rotation=40, ha=\"right\")\n",
    "plt.tight_layout()"
   ]
  },
  {
   "cell_type": "markdown",
   "metadata": {
    "slideshow": {
     "slide_type": "subslide"
    }
   },
   "source": [
    "##### iv> Bivariate Statistical"
   ]
  },
  {
   "cell_type": "code",
   "execution_count": 20,
   "metadata": {
    "slideshow": {
     "slide_type": "subslide"
    }
   },
   "outputs": [
    {
     "data": {
      "text/html": [
       "<div>\n",
       "<style scoped>\n",
       "    .dataframe tbody tr th:only-of-type {\n",
       "        vertical-align: middle;\n",
       "    }\n",
       "\n",
       "    .dataframe tbody tr th {\n",
       "        vertical-align: top;\n",
       "    }\n",
       "\n",
       "    .dataframe thead th {\n",
       "        text-align: right;\n",
       "    }\n",
       "</style>\n",
       "<table border=\"1\" class=\"dataframe\">\n",
       "  <thead>\n",
       "    <tr style=\"text-align: right;\">\n",
       "      <th>PAY_MODE_SEVEREST</th>\n",
       "      <th>Delay 1 of month</th>\n",
       "      <th>Delay 2 of months</th>\n",
       "      <th>Delay 3 of months</th>\n",
       "      <th>Delay 4 of months</th>\n",
       "      <th>Delay 5 of months</th>\n",
       "      <th>Delay 6 of months</th>\n",
       "      <th>Delay 7 of months</th>\n",
       "      <th>Delay 8 of months</th>\n",
       "      <th>No Credit Use</th>\n",
       "      <th>Paid in Full</th>\n",
       "      <th>Revolving Credit Used</th>\n",
       "    </tr>\n",
       "    <tr>\n",
       "      <th>default_payment_next_month</th>\n",
       "      <th></th>\n",
       "      <th></th>\n",
       "      <th></th>\n",
       "      <th></th>\n",
       "      <th></th>\n",
       "      <th></th>\n",
       "      <th></th>\n",
       "      <th></th>\n",
       "      <th></th>\n",
       "      <th></th>\n",
       "      <th></th>\n",
       "    </tr>\n",
       "  </thead>\n",
       "  <tbody>\n",
       "    <tr>\n",
       "      <th>False</th>\n",
       "      <td>88.89 %</td>\n",
       "      <td>39.32 %</td>\n",
       "      <td>26.92 %</td>\n",
       "      <td>41.38 %</td>\n",
       "      <td>41.18 %</td>\n",
       "      <td>36.36 %</td>\n",
       "      <td>16.42 %</td>\n",
       "      <td>43.48 %</td>\n",
       "      <td>80.47 %</td>\n",
       "      <td>83.36 %</td>\n",
       "      <td>83.12 %</td>\n",
       "    </tr>\n",
       "    <tr>\n",
       "      <th>True</th>\n",
       "      <td>11.11 %</td>\n",
       "      <td>60.68 %</td>\n",
       "      <td>73.08 %</td>\n",
       "      <td>58.62 %</td>\n",
       "      <td>58.82 %</td>\n",
       "      <td>63.64 %</td>\n",
       "      <td>83.58 %</td>\n",
       "      <td>56.52 %</td>\n",
       "      <td>19.53 %</td>\n",
       "      <td>16.64 %</td>\n",
       "      <td>16.88 %</td>\n",
       "    </tr>\n",
       "  </tbody>\n",
       "</table>\n",
       "</div>"
      ],
      "text/plain": [
       "PAY_MODE_SEVEREST          Delay 1 of month Delay 2 of months  \\\n",
       "default_payment_next_month                                      \n",
       "False                               88.89 %           39.32 %   \n",
       "True                                11.11 %           60.68 %   \n",
       "\n",
       "PAY_MODE_SEVEREST          Delay 3 of months Delay 4 of months  \\\n",
       "default_payment_next_month                                       \n",
       "False                                26.92 %           41.38 %   \n",
       "True                                 73.08 %           58.62 %   \n",
       "\n",
       "PAY_MODE_SEVEREST          Delay 5 of months Delay 6 of months  \\\n",
       "default_payment_next_month                                       \n",
       "False                                41.18 %           36.36 %   \n",
       "True                                 58.82 %           63.64 %   \n",
       "\n",
       "PAY_MODE_SEVEREST          Delay 7 of months Delay 8 of months No Credit Use  \\\n",
       "default_payment_next_month                                                     \n",
       "False                                16.42 %           43.48 %       80.47 %   \n",
       "True                                 83.58 %           56.52 %       19.53 %   \n",
       "\n",
       "PAY_MODE_SEVEREST          Paid in Full Revolving Credit Used  \n",
       "default_payment_next_month                                     \n",
       "False                           83.36 %               83.12 %  \n",
       "True                            16.64 %               16.88 %  "
      ]
     },
     "execution_count": 20,
     "metadata": {},
     "output_type": "execute_result"
    }
   ],
   "source": [
    "#category-wise\n",
    "pandas.crosstab(index = ccd['default_payment_next_month'], columns = ccd['PAY_MODE_SEVEREST'], normalize = 'columns').mul(100).round(2).astype('str') + ' %'"
   ]
  },
  {
   "cell_type": "code",
   "execution_count": 21,
   "metadata": {
    "slideshow": {
     "slide_type": "fragment"
    }
   },
   "outputs": [
    {
     "data": {
      "text/html": [
       "<div>\n",
       "<style scoped>\n",
       "    .dataframe tbody tr th:only-of-type {\n",
       "        vertical-align: middle;\n",
       "    }\n",
       "\n",
       "    .dataframe tbody tr th {\n",
       "        vertical-align: top;\n",
       "    }\n",
       "\n",
       "    .dataframe thead th {\n",
       "        text-align: right;\n",
       "    }\n",
       "</style>\n",
       "<table border=\"1\" class=\"dataframe\">\n",
       "  <thead>\n",
       "    <tr style=\"text-align: right;\">\n",
       "      <th>PAY_MODE_SEVEREST</th>\n",
       "      <th>Delay 1 of month</th>\n",
       "      <th>Delay 2 of months</th>\n",
       "      <th>Delay 3 of months</th>\n",
       "      <th>Delay 4 of months</th>\n",
       "      <th>Delay 5 of months</th>\n",
       "      <th>Delay 6 of months</th>\n",
       "      <th>Delay 7 of months</th>\n",
       "      <th>Delay 8 of months</th>\n",
       "      <th>No Credit Use</th>\n",
       "      <th>Paid in Full</th>\n",
       "      <th>Revolving Credit Used</th>\n",
       "    </tr>\n",
       "    <tr>\n",
       "      <th>default_payment_next_month</th>\n",
       "      <th></th>\n",
       "      <th></th>\n",
       "      <th></th>\n",
       "      <th></th>\n",
       "      <th></th>\n",
       "      <th></th>\n",
       "      <th></th>\n",
       "      <th></th>\n",
       "      <th></th>\n",
       "      <th></th>\n",
       "      <th></th>\n",
       "    </tr>\n",
       "  </thead>\n",
       "  <tbody>\n",
       "    <tr>\n",
       "      <th>False</th>\n",
       "      <td>0.03 %</td>\n",
       "      <td>5.13 %</td>\n",
       "      <td>0.12 %</td>\n",
       "      <td>0.1 %</td>\n",
       "      <td>0.03 %</td>\n",
       "      <td>0.02 %</td>\n",
       "      <td>0.05 %</td>\n",
       "      <td>0.04 %</td>\n",
       "      <td>13.42 %</td>\n",
       "      <td>20.3 %</td>\n",
       "      <td>60.75 %</td>\n",
       "    </tr>\n",
       "    <tr>\n",
       "      <th>True</th>\n",
       "      <td>0.02 %</td>\n",
       "      <td>27.86 %</td>\n",
       "      <td>1.15 %</td>\n",
       "      <td>0.51 %</td>\n",
       "      <td>0.15 %</td>\n",
       "      <td>0.11 %</td>\n",
       "      <td>0.84 %</td>\n",
       "      <td>0.2 %</td>\n",
       "      <td>11.47 %</td>\n",
       "      <td>14.27 %</td>\n",
       "      <td>43.43 %</td>\n",
       "    </tr>\n",
       "  </tbody>\n",
       "</table>\n",
       "</div>"
      ],
      "text/plain": [
       "PAY_MODE_SEVEREST          Delay 1 of month Delay 2 of months  \\\n",
       "default_payment_next_month                                      \n",
       "False                                0.03 %            5.13 %   \n",
       "True                                 0.02 %           27.86 %   \n",
       "\n",
       "PAY_MODE_SEVEREST          Delay 3 of months Delay 4 of months  \\\n",
       "default_payment_next_month                                       \n",
       "False                                 0.12 %             0.1 %   \n",
       "True                                  1.15 %            0.51 %   \n",
       "\n",
       "PAY_MODE_SEVEREST          Delay 5 of months Delay 6 of months  \\\n",
       "default_payment_next_month                                       \n",
       "False                                 0.03 %            0.02 %   \n",
       "True                                  0.15 %            0.11 %   \n",
       "\n",
       "PAY_MODE_SEVEREST          Delay 7 of months Delay 8 of months No Credit Use  \\\n",
       "default_payment_next_month                                                     \n",
       "False                                 0.05 %            0.04 %       13.42 %   \n",
       "True                                  0.84 %             0.2 %       11.47 %   \n",
       "\n",
       "PAY_MODE_SEVEREST          Paid in Full Revolving Credit Used  \n",
       "default_payment_next_month                                     \n",
       "False                            20.3 %               60.75 %  \n",
       "True                            14.27 %               43.43 %  "
      ]
     },
     "execution_count": 21,
     "metadata": {},
     "output_type": "execute_result"
    }
   ],
   "source": [
    "#target-wise\n",
    "pandas.crosstab(index = ccd['default_payment_next_month'], columns = ccd['PAY_MODE_SEVEREST'], normalize = 'index').mul(100).round(2).astype('str') + ' %'"
   ]
  },
  {
   "cell_type": "markdown",
   "metadata": {
    "slideshow": {
     "slide_type": "subslide"
    }
   },
   "source": [
    "##### Payment behaviour in June (Quarter - April to June) (PAY_4: June)"
   ]
  },
  {
   "cell_type": "code",
   "execution_count": 22,
   "metadata": {
    "slideshow": {
     "slide_type": "fragment"
    }
   },
   "outputs": [
    {
     "data": {
      "text/html": [
       "<div>\n",
       "<style scoped>\n",
       "    .dataframe tbody tr th:only-of-type {\n",
       "        vertical-align: middle;\n",
       "    }\n",
       "\n",
       "    .dataframe tbody tr th {\n",
       "        vertical-align: top;\n",
       "    }\n",
       "\n",
       "    .dataframe thead th {\n",
       "        text-align: right;\n",
       "    }\n",
       "</style>\n",
       "<table border=\"1\" class=\"dataframe\">\n",
       "  <thead>\n",
       "    <tr style=\"text-align: right;\">\n",
       "      <th>PAY_4</th>\n",
       "      <th>Delay 1 of month</th>\n",
       "      <th>Delay 2 of months</th>\n",
       "      <th>Delay 3 of months</th>\n",
       "      <th>Delay 4 of months</th>\n",
       "      <th>Delay 5 of months</th>\n",
       "      <th>Delay 6 of months</th>\n",
       "      <th>Delay 7 of months</th>\n",
       "      <th>Delay 8 of months</th>\n",
       "      <th>No Credit Use</th>\n",
       "      <th>Paid in Full</th>\n",
       "      <th>Revolving Credit Used</th>\n",
       "    </tr>\n",
       "    <tr>\n",
       "      <th>default_payment_next_month</th>\n",
       "      <th></th>\n",
       "      <th></th>\n",
       "      <th></th>\n",
       "      <th></th>\n",
       "      <th></th>\n",
       "      <th></th>\n",
       "      <th></th>\n",
       "      <th></th>\n",
       "      <th></th>\n",
       "      <th></th>\n",
       "      <th></th>\n",
       "    </tr>\n",
       "  </thead>\n",
       "  <tbody>\n",
       "    <tr>\n",
       "      <th>False</th>\n",
       "      <td>0.0 %</td>\n",
       "      <td>6.45 %</td>\n",
       "      <td>0.3 %</td>\n",
       "      <td>0.1 %</td>\n",
       "      <td>0.07 %</td>\n",
       "      <td>0.01 %</td>\n",
       "      <td>0.04 %</td>\n",
       "      <td>0.0 %</td>\n",
       "      <td>15.03 %</td>\n",
       "      <td>20.47 %</td>\n",
       "      <td>57.52 %</td>\n",
       "    </tr>\n",
       "    <tr>\n",
       "      <th>True</th>\n",
       "      <td>0.02 %</td>\n",
       "      <td>24.91 %</td>\n",
       "      <td>1.66 %</td>\n",
       "      <td>0.69 %</td>\n",
       "      <td>0.27 %</td>\n",
       "      <td>0.03 %</td>\n",
       "      <td>0.72 %</td>\n",
       "      <td>0.02 %</td>\n",
       "      <td>12.61 %</td>\n",
       "      <td>13.62 %</td>\n",
       "      <td>45.45 %</td>\n",
       "    </tr>\n",
       "  </tbody>\n",
       "</table>\n",
       "</div>"
      ],
      "text/plain": [
       "PAY_4                      Delay 1 of month Delay 2 of months  \\\n",
       "default_payment_next_month                                      \n",
       "False                                 0.0 %            6.45 %   \n",
       "True                                 0.02 %           24.91 %   \n",
       "\n",
       "PAY_4                      Delay 3 of months Delay 4 of months  \\\n",
       "default_payment_next_month                                       \n",
       "False                                  0.3 %             0.1 %   \n",
       "True                                  1.66 %            0.69 %   \n",
       "\n",
       "PAY_4                      Delay 5 of months Delay 6 of months  \\\n",
       "default_payment_next_month                                       \n",
       "False                                 0.07 %            0.01 %   \n",
       "True                                  0.27 %            0.03 %   \n",
       "\n",
       "PAY_4                      Delay 7 of months Delay 8 of months No Credit Use  \\\n",
       "default_payment_next_month                                                     \n",
       "False                                 0.04 %             0.0 %       15.03 %   \n",
       "True                                  0.72 %            0.02 %       12.61 %   \n",
       "\n",
       "PAY_4                      Paid in Full Revolving Credit Used  \n",
       "default_payment_next_month                                     \n",
       "False                           20.47 %               57.52 %  \n",
       "True                            13.62 %               45.45 %  "
      ]
     },
     "execution_count": 22,
     "metadata": {},
     "output_type": "execute_result"
    }
   ],
   "source": [
    "#target-wise\n",
    "pandas.crosstab(index = ccd['default_payment_next_month'], columns = ccd['PAY_4'], normalize = 'index').mul(100).round(2).astype('str') + ' %'"
   ]
  },
  {
   "cell_type": "markdown",
   "metadata": {
    "slideshow": {
     "slide_type": "subslide"
    }
   },
   "source": [
    "##### Payment behaviour in June (Quarter - July to September) (PAY_1: September)"
   ]
  },
  {
   "cell_type": "code",
   "execution_count": 23,
   "metadata": {
    "slideshow": {
     "slide_type": "fragment"
    }
   },
   "outputs": [
    {
     "data": {
      "text/html": [
       "<div>\n",
       "<style scoped>\n",
       "    .dataframe tbody tr th:only-of-type {\n",
       "        vertical-align: middle;\n",
       "    }\n",
       "\n",
       "    .dataframe tbody tr th {\n",
       "        vertical-align: top;\n",
       "    }\n",
       "\n",
       "    .dataframe thead th {\n",
       "        text-align: right;\n",
       "    }\n",
       "</style>\n",
       "<table border=\"1\" class=\"dataframe\">\n",
       "  <thead>\n",
       "    <tr style=\"text-align: right;\">\n",
       "      <th>PAY_1</th>\n",
       "      <th>Delay 1 of month</th>\n",
       "      <th>Delay 2 of months</th>\n",
       "      <th>Delay 3 of months</th>\n",
       "      <th>Delay 4 of months</th>\n",
       "      <th>Delay 5 of months</th>\n",
       "      <th>Delay 6 of months</th>\n",
       "      <th>Delay 7 of months</th>\n",
       "      <th>Delay 8 of months</th>\n",
       "      <th>No Credit Use</th>\n",
       "      <th>Paid in Full</th>\n",
       "      <th>Revolving Credit Used</th>\n",
       "    </tr>\n",
       "    <tr>\n",
       "      <th>default_payment_next_month</th>\n",
       "      <th></th>\n",
       "      <th></th>\n",
       "      <th></th>\n",
       "      <th></th>\n",
       "      <th></th>\n",
       "      <th></th>\n",
       "      <th></th>\n",
       "      <th></th>\n",
       "      <th></th>\n",
       "      <th></th>\n",
       "      <th></th>\n",
       "    </tr>\n",
       "  </thead>\n",
       "  <tbody>\n",
       "    <tr>\n",
       "      <th>False</th>\n",
       "      <td>10.43 %</td>\n",
       "      <td>3.52 %</td>\n",
       "      <td>0.33 %</td>\n",
       "      <td>0.1 %</td>\n",
       "      <td>0.06 %</td>\n",
       "      <td>0.02 %</td>\n",
       "      <td>0.01 %</td>\n",
       "      <td>0.03 %</td>\n",
       "      <td>10.25 %</td>\n",
       "      <td>20.25 %</td>\n",
       "      <td>54.99 %</td>\n",
       "    </tr>\n",
       "    <tr>\n",
       "      <th>True</th>\n",
       "      <td>18.87 %</td>\n",
       "      <td>27.79 %</td>\n",
       "      <td>3.68 %</td>\n",
       "      <td>0.78 %</td>\n",
       "      <td>0.2 %</td>\n",
       "      <td>0.09 %</td>\n",
       "      <td>0.11 %</td>\n",
       "      <td>0.17 %</td>\n",
       "      <td>5.5 %</td>\n",
       "      <td>14.38 %</td>\n",
       "      <td>28.45 %</td>\n",
       "    </tr>\n",
       "  </tbody>\n",
       "</table>\n",
       "</div>"
      ],
      "text/plain": [
       "PAY_1                      Delay 1 of month Delay 2 of months  \\\n",
       "default_payment_next_month                                      \n",
       "False                               10.43 %            3.52 %   \n",
       "True                                18.87 %           27.79 %   \n",
       "\n",
       "PAY_1                      Delay 3 of months Delay 4 of months  \\\n",
       "default_payment_next_month                                       \n",
       "False                                 0.33 %             0.1 %   \n",
       "True                                  3.68 %            0.78 %   \n",
       "\n",
       "PAY_1                      Delay 5 of months Delay 6 of months  \\\n",
       "default_payment_next_month                                       \n",
       "False                                 0.06 %            0.02 %   \n",
       "True                                   0.2 %            0.09 %   \n",
       "\n",
       "PAY_1                      Delay 7 of months Delay 8 of months No Credit Use  \\\n",
       "default_payment_next_month                                                     \n",
       "False                                 0.01 %            0.03 %       10.25 %   \n",
       "True                                  0.11 %            0.17 %         5.5 %   \n",
       "\n",
       "PAY_1                      Paid in Full Revolving Credit Used  \n",
       "default_payment_next_month                                     \n",
       "False                           20.25 %               54.99 %  \n",
       "True                            14.38 %               28.45 %  "
      ]
     },
     "execution_count": 23,
     "metadata": {},
     "output_type": "execute_result"
    }
   ],
   "source": [
    "#target-wise\n",
    "pandas.crosstab(index = ccd['default_payment_next_month'], columns = ccd['PAY_1'], normalize = 'index').mul(100).round(2).astype('str') + ' %'"
   ]
  },
  {
   "cell_type": "markdown",
   "metadata": {
    "slideshow": {
     "slide_type": "subslide"
    }
   },
   "source": [
    "##### iv> b. Chi Squared Test"
   ]
  },
  {
   "cell_type": "code",
   "execution_count": 24,
   "metadata": {
    "slideshow": {
     "slide_type": "fragment"
    }
   },
   "outputs": [],
   "source": [
    "chi2 = pandas.DataFrame(\n",
    "    data = chi2_contingency(\n",
    "        observed = pandas.crosstab(index = ccd['default_payment_next_month'], \n",
    "                                   columns = ccd['PAY_MODE_SEVEREST'])))"
   ]
  },
  {
   "cell_type": "code",
   "execution_count": 25,
   "metadata": {
    "slideshow": {
     "slide_type": "fragment"
    }
   },
   "outputs": [
    {
     "data": {
      "text/html": [
       "<div>\n",
       "<style scoped>\n",
       "    .dataframe tbody tr th:only-of-type {\n",
       "        vertical-align: middle;\n",
       "    }\n",
       "\n",
       "    .dataframe tbody tr th {\n",
       "        vertical-align: top;\n",
       "    }\n",
       "\n",
       "    .dataframe thead th {\n",
       "        text-align: right;\n",
       "    }\n",
       "</style>\n",
       "<table border=\"1\" class=\"dataframe\">\n",
       "  <thead>\n",
       "    <tr style=\"text-align: right;\">\n",
       "      <th></th>\n",
       "      <th>0</th>\n",
       "    </tr>\n",
       "  </thead>\n",
       "  <tbody>\n",
       "    <tr>\n",
       "      <th>0</th>\n",
       "      <td>3406.33</td>\n",
       "    </tr>\n",
       "    <tr>\n",
       "      <th>1</th>\n",
       "      <td>0</td>\n",
       "    </tr>\n",
       "    <tr>\n",
       "      <th>2</th>\n",
       "      <td>10</td>\n",
       "    </tr>\n",
       "    <tr>\n",
       "      <th>3</th>\n",
       "      <td>[[7.0092, 2373.0036, 80.9952, 45.1704, 13.2396...</td>\n",
       "    </tr>\n",
       "  </tbody>\n",
       "</table>\n",
       "</div>"
      ],
      "text/plain": [
       "                                                   0\n",
       "0                                            3406.33\n",
       "1                                                  0\n",
       "2                                                 10\n",
       "3  [[7.0092, 2373.0036, 80.9952, 45.1704, 13.2396..."
      ]
     },
     "execution_count": 25,
     "metadata": {},
     "output_type": "execute_result"
    }
   ],
   "source": [
    "chi2"
   ]
  },
  {
   "cell_type": "code",
   "execution_count": 26,
   "metadata": {
    "slideshow": {
     "slide_type": "fragment"
    }
   },
   "outputs": [
    {
     "data": {
      "text/plain": [
       "1.9908"
      ]
     },
     "execution_count": 26,
     "metadata": {},
     "output_type": "execute_result"
    }
   ],
   "source": [
    "chi2[0][3].min()"
   ]
  },
  {
   "cell_type": "markdown",
   "metadata": {
    "slideshow": {
     "slide_type": "subslide"
    }
   },
   "source": [
    "##### v> Conclusion\n",
    "Expectation - \n",
    "1. Individual may default less at the end of a financial quarter (PAY_1: September, Pay_4: June)\n",
    "2. Payment delay and smaller LIMIT_BAL can be directly correlated. (Resulatant of sound and logical practices of the Credit firm)\n",
    "\n",
    "Conclusion - \n",
    "1. Holds True for June, but it's the opposite case for September. PAY_{} == Delay{} AND Default == True: {'PAY_MODE_SEVEREST': 30.84%, 'PAY_4': 28.32%, 'PAY_1': 51.69%} (Crosstabs 3, 5 and 7, normalized by index).\n",
    "2. True (Crosstab 2)\n",
    "3. Chi-Sqaured test: p-value being below 0.05(row 2), there exists a relation between PAY_MODE_SEVEREST and 'default payment'. All elements of array of expected frequency(previous cell) not being above 5, test is not reliable.\n",
    "\n",
    "Comments - None"
   ]
  },
  {
   "cell_type": "markdown",
   "metadata": {
    "slideshow": {
     "slide_type": "slide"
    }
   },
   "source": [
    "#### 2.2.c. Correlation between Availing and Paying back Credit"
   ]
  },
  {
   "cell_type": "code",
   "execution_count": 27,
   "metadata": {},
   "outputs": [],
   "source": [
    "ccdSpent = ccd[['BILL_AMT1', 'BILL_AMT2', 'BILL_AMT3', 'BILL_AMT4', 'BILL_AMT5', 'BILL_AMT6']]\n",
    "ccd['BILL_AMT_MEAN'] = np.int32(ccdSpent.mean(axis = 'columns').round())"
   ]
  },
  {
   "cell_type": "code",
   "execution_count": 28,
   "metadata": {},
   "outputs": [],
   "source": [
    "ccdSettled = ccd[['PAY_AMT1', 'PAY_AMT2', 'PAY_AMT3', 'PAY_AMT4', 'PAY_AMT5', 'PAY_AMT6']]\n",
    "ccd['PAY_AMT_MEAN'] = np.int32(ccdSettled.mean(axis = 'columns').round())"
   ]
  },
  {
   "cell_type": "code",
   "execution_count": 29,
   "metadata": {
    "slideshow": {
     "slide_type": "fragment"
    }
   },
   "outputs": [
    {
     "data": {
      "text/html": [
       "<div>\n",
       "<style scoped>\n",
       "    .dataframe tbody tr th:only-of-type {\n",
       "        vertical-align: middle;\n",
       "    }\n",
       "\n",
       "    .dataframe tbody tr th {\n",
       "        vertical-align: top;\n",
       "    }\n",
       "\n",
       "    .dataframe thead th {\n",
       "        text-align: right;\n",
       "    }\n",
       "</style>\n",
       "<table border=\"1\" class=\"dataframe\">\n",
       "  <thead>\n",
       "    <tr style=\"text-align: right;\">\n",
       "      <th></th>\n",
       "      <th>PAY_AMT_MEAN</th>\n",
       "      <th>BILL_AMT_MEAN</th>\n",
       "    </tr>\n",
       "  </thead>\n",
       "  <tbody>\n",
       "    <tr>\n",
       "      <th>PAY_AMT_MEAN</th>\n",
       "      <td>1.000000</td>\n",
       "      <td>0.597273</td>\n",
       "    </tr>\n",
       "    <tr>\n",
       "      <th>BILL_AMT_MEAN</th>\n",
       "      <td>0.597273</td>\n",
       "      <td>1.000000</td>\n",
       "    </tr>\n",
       "  </tbody>\n",
       "</table>\n",
       "</div>"
      ],
      "text/plain": [
       "               PAY_AMT_MEAN  BILL_AMT_MEAN\n",
       "PAY_AMT_MEAN       1.000000       0.597273\n",
       "BILL_AMT_MEAN      0.597273       1.000000"
      ]
     },
     "execution_count": 29,
     "metadata": {},
     "output_type": "execute_result"
    }
   ],
   "source": [
    "ccdAvailPayback = ccd[['PAY_AMT_MEAN', 'BILL_AMT_MEAN']]\n",
    "ccdAvailPayback.corr(method = 'spearman')"
   ]
  },
  {
   "cell_type": "code",
   "execution_count": 30,
   "metadata": {
    "slideshow": {
     "slide_type": "subslide"
    }
   },
   "outputs": [
    {
     "data": {
      "text/plain": [
       "<seaborn.axisgrid.JointGrid at 0x18d5c658188>"
      ]
     },
     "execution_count": 30,
     "metadata": {},
     "output_type": "execute_result"
    },
    {
     "data": {
      "image/png": "[encoded data removed]",
      "text/plain": [
       "<Figure size 432x432 with 3 Axes>"
      ]
     },
     "metadata": {
      "needs_background": "light"
     },
     "output_type": "display_data"
    }
   ],
   "source": [
    "seaborn.jointplot(x = ccd['PAY_AMT_MEAN'], y = ccd['BILL_AMT_MEAN'], kind = 'scatter')#, hue = 'default payment next month')"
   ]
  },
  {
   "cell_type": "code",
   "execution_count": 31,
   "metadata": {
    "slideshow": {
     "slide_type": "subslide"
    }
   },
   "outputs": [
    {
     "data": {
      "text/plain": [
       "<seaborn.axisgrid.JointGrid at 0x18d5c786048>"
      ]
     },
     "execution_count": 31,
     "metadata": {},
     "output_type": "execute_result"
    },
    {
     "data": {
      "image/png": "[encoded data removed]",
      "text/plain": [
       "<Figure size 432x432 with 3 Axes>"
      ]
     },
     "metadata": {
      "needs_background": "light"
     },
     "output_type": "display_data"
    }
   ],
   "source": [
    "seaborn.jointplot(x = ccd['PAY_AMT_MEAN'], y = ccd['BILL_AMT_MEAN'], kind = 'kde')#, hue = 'default payment next month')"
   ]
  },
  {
   "cell_type": "markdown",
   "metadata": {
    "slideshow": {
     "slide_type": "subslide"
    }
   },
   "source": [
    "Conclusion - \n",
    "1. The correlation between PAY_AMT_MEAN and BILL_AMT_MEAN is not insignificant (0.597273, Table 1). However for lower defaulter ratio, this correlation should be improved."
   ]
  },
  {
   "cell_type": "markdown",
   "metadata": {
    "slideshow": {
     "slide_type": "slide"
    }
   },
   "source": [
    "#### 2.2.d. Target variable: default payment next month\n",
    "Type - Categorical - Nominal\n",
    "\n",
    "Segment - Behavioural - {Target for Classification}\n",
    "\n",
    "Legend - {True, False}"
   ]
  },
  {
   "cell_type": "code",
   "execution_count": 32,
   "metadata": {
    "slideshow": {
     "slide_type": "fragment"
    }
   },
   "outputs": [
    {
     "data": {
      "text/plain": [
       "False    77.88%\n",
       "True     22.12%\n",
       "Name: default_payment_next_month, dtype: object"
      ]
     },
     "execution_count": 32,
     "metadata": {},
     "output_type": "execute_result"
    }
   ],
   "source": [
    "ccd['default_payment_next_month'].value_counts(normalize = True).mul(100).round(2).astype('str') + '%'"
   ]
  },
  {
   "cell_type": "markdown",
   "metadata": {
    "slideshow": {
     "slide_type": "subslide"
    }
   },
   "source": [
    "Expectation - \n",
    "1. There will be far less defaulters than on-time payers.\n",
    "\n",
    "Conclusion - \n",
    "1. True. (False: 77.88%, True: 22.12%) (Distribution)\n",
    "\n",
    "Comments - None"
   ]
  },
  {
   "cell_type": "markdown",
   "metadata": {
    "slideshow": {
     "slide_type": "slide"
    }
   },
   "source": [
    "### 2.3 Multivariate Analysis\n",
    "\n",
    "#### One-Way MANOVA (Multivariate Analysis of Variance)\n",
    "\n",
    "##### Using highly skewed variables"
   ]
  },
  {
   "cell_type": "code",
   "execution_count": 33,
   "metadata": {
    "slideshow": {
     "slide_type": "fragment"
    }
   },
   "outputs": [],
   "source": [
    "skewedVars = MANOVA.from_formula(formula = 'LIMIT_BAL + AGE + PAY_AMT_MEAN + BILL_AMT_MEAN + PAY_MODE_SEVEREST ~ default_payment_next_month', data = ccd)"
   ]
  },
  {
   "cell_type": "code",
   "execution_count": 34,
   "metadata": {
    "slideshow": {
     "slide_type": "fragment"
    }
   },
   "outputs": [],
   "source": [
    "skewedVarsTest = skewedVars.mv_test()"
   ]
  },
  {
   "cell_type": "code",
   "execution_count": 35,
   "metadata": {
    "slideshow": {
     "slide_type": "subslide"
    }
   },
   "outputs": [
    {
     "data": {
      "text/html": [
       "<table class=\"simpletable\">\n",
       "<tr>\n",
       "  <td></td> <td></td> <td></td> <td></td>\n",
       "</tr>\n",
       "</table>\n",
       "<table class=\"simpletable\">\n",
       "<tr>\n",
       "  <td></td>        <th>Intercept</th>               <th>Value</th>         <th>Num DF</th>    <th>Den DF</th>            <th>F Value</th>         <th>Pr > F</th>\n",
       "</tr>\n",
       "<tr>\n",
       "  <th></th>      <td>Wilks' lambda</td>            <td>0.0000</td>         <td>15.0000</td> <td>29984.0000</td> <td>2000532314475212032.0000</td> <td>0.0000</td>\n",
       "</tr>\n",
       "<tr>\n",
       "  <th></th>     <td>Pillai's trace</td>            <td>1.0000</td>         <td>15.0000</td> <td>29984.0000</td> <td>2000532314475212032.0000</td> <td>0.0000</td>\n",
       "</tr>\n",
       "<tr>\n",
       "  <th></th> <td>Hotelling-Lawley trace</td> <td>1000799917193442.5000</td> <td>15.0000</td> <td>29984.0000</td> <td>2000532314475212032.0000</td> <td>0.0000</td>\n",
       "</tr>\n",
       "<tr>\n",
       "  <th></th>   <td>Roy's greatest root</td>  <td>1000799917193442.5000</td> <td>15.0000</td> <td>29984.0000</td> <td>2000532314475212032.0000</td> <td>0.0000</td>\n",
       "</tr>\n",
       "</table>\n",
       "<table class=\"simpletable\">\n",
       "<tr>\n",
       "  <td></td> <td></td> <td></td> <td></td>\n",
       "</tr>\n",
       "</table>\n",
       "<table class=\"simpletable\">\n",
       "<tr>\n",
       "  <td></td> <th>default_payment_next_month</th>  <th>Value</th> <th>Num DF</th>    <th>Den DF</th>    <th>F Value</th> <th>Pr > F</th>\n",
       "</tr>\n",
       "<tr>\n",
       "  <th></th>        <td>Wilks' lambda</td>       <td>0.8727</td> <td>14.0000</td> <td>29985.0000</td> <td>312.4579</td> <td>0.0000</td>\n",
       "</tr>\n",
       "<tr>\n",
       "  <th></th>       <td>Pillai's trace</td>       <td>0.1274</td> <td>14.0000</td> <td>29985.0000</td> <td>312.6844</td> <td>0.0000</td>\n",
       "</tr>\n",
       "<tr>\n",
       "  <th></th>   <td>Hotelling-Lawley trace</td>   <td>0.1458</td> <td>14.0000</td> <td>29985.0000</td> <td>312.2602</td> <td>0.0000</td>\n",
       "</tr>\n",
       "<tr>\n",
       "  <th></th>     <td>Roy's greatest root</td>    <td>0.1452</td> <td>14.0000</td> <td>29985.0000</td> <td>310.8984</td> <td>0.0000</td>\n",
       "</tr>\n",
       "</table>"
      ],
      "text/plain": [
       "<class 'statsmodels.iolib.summary2.Summary'>\n",
       "\"\"\"\n",
       "                                   Multivariate linear model\n",
       "================================================================================================\n",
       "                                                                                                \n",
       "------------------------------------------------------------------------------------------------\n",
       "       Intercept                Value          Num DF   Den DF           F Value          Pr > F\n",
       "------------------------------------------------------------------------------------------------\n",
       "          Wilks' lambda                0.0000 15.0000 29984.0000 2000532314475212032.0000 0.0000\n",
       "         Pillai's trace                1.0000 15.0000 29984.0000 2000532314475212032.0000 0.0000\n",
       " Hotelling-Lawley trace 1000799917193442.5000 15.0000 29984.0000 2000532314475212032.0000 0.0000\n",
       "    Roy's greatest root 1000799917193442.5000 15.0000 29984.0000 2000532314475212032.0000 0.0000\n",
       "------------------------------------------------------------------------------------------------\n",
       "                                                                                                \n",
       "-----------------------------------------------------------------------------------------------------\n",
       "        default_payment_next_month      Value        Num DF        Den DF        F Value       Pr > F\n",
       "-----------------------------------------------------------------------------------------------------\n",
       "                     Wilks' lambda      0.8727      14.0000      29985.0000      312.4579      0.0000\n",
       "                    Pillai's trace      0.1274      14.0000      29985.0000      312.6844      0.0000\n",
       "            Hotelling-Lawley trace      0.1458      14.0000      29985.0000      312.2602      0.0000\n",
       "               Roy's greatest root      0.1452      14.0000      29985.0000      310.8984      0.0000\n",
       "================================================================================================\n",
       "\n",
       "\"\"\""
      ]
     },
     "execution_count": 35,
     "metadata": {},
     "output_type": "execute_result"
    }
   ],
   "source": [
    "skewedVarsTest.summary()"
   ]
  },
  {
   "cell_type": "markdown",
   "metadata": {
    "slideshow": {
     "slide_type": "fragment"
    }
   },
   "source": [
    "Conclusion: \n",
    "\n",
    "Pillai's trace for target variable being 0.1274, highly skewed variables are significant in predicting 'default_payment' to some degree, but not very significant."
   ]
  }
 ],
 "metadata": {
  "kernelspec": {
   "display_name": "Python [conda env:.conda-CreditDefaulterClassification]",
   "language": "python",
   "name": "conda-env-.conda-CreditDefaulterClassification-py"
  },
  "language_info": {
   "codemirror_mode": {
    "name": "ipython",
    "version": 3
   },
   "file_extension": ".py",
   "mimetype": "text/x-python",
   "name": "python",
   "nbconvert_exporter": "python",
   "pygments_lexer": "ipython3",
   "version": "3.7.7"
  }
 },
 "nbformat": 4,
 "nbformat_minor": 4
}
